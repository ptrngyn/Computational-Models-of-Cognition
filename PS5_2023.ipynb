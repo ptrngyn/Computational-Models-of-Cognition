{
 "cells": [
  {
   "cell_type": "markdown",
   "metadata": {},
   "source": [
    "<div style=\"background-color: #c1f2a5\">\n",
    "\n",
    "\n",
    "# PS5\n",
    "# Part 1\n",
    "\n",
    "In Part 1 of this problem set, we will work with graphical models to reason from data to hypothesis.\n",
    "## Instructions\n",
    "\n",
    "\n",
    "\n",
    "Remember to do your problem set in Python 3. Fill in `#YOUR CODE HERE`.\n",
    "\n",
    "Make sure: \n",
    "- that all plots are scaled in such a way that you can see what is going on (while still respecting specific plotting instructions) \n",
    "- that the general patterns are fairly represented.\n",
    "- to label all x- and y-axes, and to include a title.\n",
    "    \n",
    "</div>"
   ]
  },
  {
   "cell_type": "code",
   "execution_count": 1,
   "metadata": {
    "deletable": false,
    "nbgrader": {}
   },
   "outputs": [],
   "source": [
    "import numpy as np"
   ]
  },
  {
   "cell_type": "markdown",
   "metadata": {
    "nbgrader": {}
   },
   "source": [
    "\n",
    "  Bayesian networks provide an efficient way of representing a probability distribution. This made them very popular in artificial intelligence research, because they make it easy to handle uncertainty, as well as inferences both from cause to effect (making predictions) and effect to cause (forming explanations). These factors traditionally presented a challenge for AI approaches based on rules and symbols, such as production systems.\n",
    "  \n",
    "Read more about Bayesian networks here:\n",
    "https://en.wikipedia.org/wiki/Bayesian_network\n",
    "\n",
    "  The figure below shows a simple graphical model relating three variables. $X$ indicates whether the sprinklers were on last night, $Y$ indicates whether it rained last night, and $Z$ indicates whether the grass is wet. All three variables take on one of two values (1 for yes or 0 for no). We will proceed to refer to the random variables using their abstract names (X, Y, and Z). **You may want to jot down this graph on a piece of paper so you can refer to it later while solving the problems in Part 1.** \n",
    "    \n",
    "       \n",
    "</div>    \n",
    "    \n",
    "    \n",
    "    \n",
    "\n",
    "<center>    \n",
    "  <img src=\"https://www.dropbox.com/s/y67y8owgvi63ogo/sprinklers.png?raw=1\" width=\"300\"/>\n",
    "</center>\n",
    "\n",
    "\n",
    "\n",
    "---\n"
   ]
  },
  {
   "cell_type": "markdown",
   "metadata": {},
   "source": [
    "<div class=\"alert alert-danger\">Note that in this problem, we will ask you to write down several equations. Your equations should be formatted using LaTeX. Refer back to Problem Set 0 if you forget how to format equations with LaTeX. \n",
    "<b>If your equations are not formatted with LaTeX, you will not receive full credit.</b>\n",
    "</div>\n",
    "\n",
    "Here are some examples on how to write equations in LaTeX. Gradescope will also accept LaTeX formatting.\n",
    "\n",
    "To write a formula, use `$` signs: typing `$P(A|B)=.5$` will give you $P(A|B) = .5$. \n",
    "\n",
    "\n",
    "To write a fraction, type `$\\frac{A}{B}$`, which will come out as $\\frac{A}{B}$\n",
    "\n",
    "To write a summation, write `$\\sum_{i=0}^n p(X=x_i) = 1$`, which will come out as $\\sum_{i=0}^n p(X=x_i) = 1$\n",
    "\n",
    "\n",
    "You can combine all of this for more complex equations, for example, this equation\n",
    "$$\n",
    "P(X=x,Y=y|Z=z)=\\frac{P(X=x, Y=y, Z=z)}{\\sum_{m\\in\\{0, 1\\}}\\sum_{n\\in \\{0, 1\\}} P(X=m, Y=n, Z=z)}\n",
    "$$\n",
    "can be coded like so:\n",
    "`$$P(X=x,Y=y|Z=z)=\\frac{P(X=x, Y=y, Z=z)}{\\sum_{x'\\in\\{0, 1\\}}\\sum_{y'\\in \\{0, 1\\}} P(X=x', Y=y', Z=z)}$$`.\n",
    "\n",
    "\n"
   ]
  },
  {
   "cell_type": "markdown",
   "metadata": {
    "deletable": false,
    "nbgrader": {}
   },
   "source": [
    "## Q1 Bernoulli [2pts, HELP]\n",
    "\n",
    "In this model, $X$, and $Y$ are <i>Bernoulli</i>-distributed random variables. A Bernoulli random variable takes a value of 1 (success) with probability $\\theta$ and a value of 0 (failure) with probability $1-\\theta$, where $\\theta \\in [0,1]$. For example, for a random variable or event $X$, we could write $P(X=1)=\\theta_X$ and $P(X=0)=1-\\theta_X$. Similarly, for $Y$, we can write $P(Y=1)=\\theta_Y$ and $P(Y=0)=1-\\theta_Y$.\n",
    "\n",
    "(If you are familiar with the <i>Binomial</i> distribution, the <i>Bernoulli</i> is a special case, where $n$ = 1)\n",
    "\n",
    "Read more about these distributions following the links below:\n",
    "\n",
    "<i>Bernoulli</i> https://en.wikipedia.org/wiki/Bernoulli_distribution\n",
    "\n",
    "<i>Binomial</i> https://en.wikipedia.org/wiki/Binomial_distribution\n",
    "\n",
    "<div class=\"alert alert-success\">\n",
    "\n",
    "Complete the function `bernoulli` which returns the probability of a Bernoulli-distributed random variable (such as X or Y) taking a particular value given success probability $\\theta$. Copy your function (Q1A) and the output of the cell after (Q1B) in gradescope.\n",
    "\n",
    "</div>"
   ]
  },
  {
   "cell_type": "markdown",
   "metadata": {},
   "source": [
    "### Q1.1 Copy your `bernoulli` function into Gradescope"
   ]
  },
  {
   "cell_type": "code",
   "execution_count": 2,
   "metadata": {
    "deletable": false,
    "nbgrader": {
     "checksum": "460824a333aa5c5ca0c16a81a6307234",
     "grade": false,
     "grade_id": "bernoulli",
     "solution": true
    }
   },
   "outputs": [],
   "source": [
    "def bernoulli(value, theta):\n",
    "    \"\"\"\n",
    "    Returns the probability that this variable will take on the \n",
    "    specified value given success probability theta.\n",
    "    \n",
    "    Parameters\n",
    "    ----------\n",
    "    \n",
    "    value: integer\n",
    "        Value of the random variable (either 0 or 1)\n",
    "    theta : float\n",
    "        Probability of success (between 0 and 1)\n",
    " \n",
    "    Returns\n",
    "    -------\n",
    "    a float corresponding to the the probability of realizing the value\n",
    "\n",
    "    \"\"\"  \n",
    "    # YOUR CODE HERE\n",
    "    if value == 1:\n",
    "        return theta\n",
    "    else:\n",
    "        return 1 - theta"
   ]
  },
  {
   "cell_type": "markdown",
   "metadata": {},
   "source": [
    "### Q1.2 Copy and paste the output of the following cell into Gradescope"
   ]
  },
  {
   "cell_type": "markdown",
   "metadata": {},
   "source": [
    "Check that `bernoulli` produces expected output (do not submit this to gradescope):"
   ]
  },
  {
   "cell_type": "code",
   "execution_count": 3,
   "metadata": {
    "deletable": false,
    "nbgrader": {
     "checksum": "297a1bb0105d76d2695ddbef50af73c1",
     "grade": true,
     "grade_id": "test_bernoulli",
     "points": 1
    }
   },
   "outputs": [
    {
     "name": "stdout",
     "output_type": "stream",
     "text": [
      "Success!\n"
     ]
    }
   ],
   "source": [
    "from nose.tools import assert_equal\n",
    "\n",
    "for theta in np.linspace(0, 1, 100):\n",
    "    assert_equal(bernoulli(0, theta), 1 - theta)\n",
    "    assert_equal(bernoulli(1, theta), theta)\n",
    "\n",
    "print(\"Success!\")"
   ]
  },
  {
   "cell_type": "markdown",
   "metadata": {},
   "source": [
    "Copy and paste the output of the following cell in gradescope:"
   ]
  },
  {
   "cell_type": "code",
   "execution_count": 4,
   "metadata": {
    "deletable": false,
    "nbgrader": {}
   },
   "outputs": [
    {
     "name": "stdout",
     "output_type": "stream",
     "text": [
      "P(X=0 | theta=0.2) = 0.8\n",
      "P(X=1 | theta=0.2) = 0.2\n",
      "P(Y=0 | theta=0.4) = 0.6\n",
      "P(Y=1 | theta=0.4) = 0.4\n"
     ]
    }
   ],
   "source": [
    "print(\"P(X=0 | theta=0.2) = \" + str(bernoulli(0, .2)))\n",
    "print(\"P(X=1 | theta=0.2) = \" + str(bernoulli(1, .2)))\n",
    "print(\"P(Y=0 | theta=0.4) = \" + str(bernoulli(0, .4)))\n",
    "print(\"P(Y=1 | theta=0.4) = \" + str(bernoulli(1, .4)))"
   ]
  },
  {
   "cell_type": "code",
   "execution_count": 5,
   "metadata": {
    "deletable": false,
    "nbgrader": {}
   },
   "outputs": [],
   "source": [
    "# (optional) add your own test cases here! Do not submit this to gradescope.\n"
   ]
  },
  {
   "cell_type": "markdown",
   "metadata": {
    "deletable": false,
    "nbgrader": {}
   },
   "source": [
    "---\n",
    "## Q2 Compute the joint probability [7 pts total]\n",
    "\n",
    "In the current case, we will say that the probability that $X=1$ (that the sprinkler is on) is $0.6$, and the probability that $Y=1$ (that it rained) is $0.2$. In other words, $\\theta_X = 0.6$ and $\\theta_Y = 0.2$.\n",
    "\n",
    "Below, we define two functions `p_x` and `p_y` by calling the `bernoulli` function you just wrote, using $0.6$ and $0.2$ as the theta values, respectively. In addition, we will say that the probability of $Z$ given $X$ and $Y$ (the probability of the state of the grass, given whether it rained and whether the sprinkler is on) is given by this table (Table 1):\n",
    "\n",
    "\n",
    "<table class=\"table table-striped\" style=\"width: 32em;\">\n",
    "    <thead>\n",
    "    <tr>\n",
    "        <th> x </th> \n",
    "        <th> y </th> \n",
    "        <th style=\"white-space: nowrap; width:20em\"> P(Z=1 | X=x, Y=y) </th> \n",
    "    </tr>\n",
    "    </thead>\n",
    "    <tbody>\n",
    "    <tr>\n",
    "        <td>0</td>\n",
    "        <td>0</td>\n",
    "        <td>0.05</td>\n",
    "    </tr>\n",
    "    <tr>\n",
    "        <td> 0 </td>\n",
    "        <td> 1 </td>\n",
    "        <td> 1.0 </td>\n",
    "    </tr>\n",
    "    <tr>\n",
    "        <td> 1 </td>\n",
    "        <td> 0 </td>\n",
    "        <td> 1.0 </td>\n",
    "    </tr>\n",
    "    <tr>\n",
    "        <td> 1 </td>\n",
    "        <td> 1 </td>\n",
    "        <td> 1.0 </td>\n",
    "    </tr>\n",
    "    </tbody>\n",
    "</table>\n",
    "\n",
    "The provided function `p_z_given_xy` returns probability that \n",
    "$Z=z$ for a given combination of $x$ and $y$, following the above table:"
   ]
  },
  {
   "cell_type": "code",
   "execution_count": 6,
   "metadata": {
    "deletable": false,
    "nbgrader": {
     "checksum": "c54806b5c185f319483ef76c0229eee0",
     "grade": false,
     "grade_id": "priors",
     "locked": true,
     "solution": false
    }
   },
   "outputs": [],
   "source": [
    "def p_x(x):\n",
    "    \"\"\"Computes P(X=x)\"\"\"\n",
    "    return bernoulli(x, 0.6)\n",
    "\n",
    "def p_y(y):\n",
    "    \"\"\"Computes P(Y=y)\"\"\"\n",
    "    return bernoulli(y, 0.2)\n",
    "\n",
    "def p_z_given_xy(z, x, y):\n",
    "    \"\"\"Computes P(Z=z | X=x, Y=y)\"\"\"\n",
    "    if x == 0 and y == 0:\n",
    "        return bernoulli(z, 0.05)\n",
    "    else:\n",
    "        return bernoulli(z, 1)"
   ]
  },
  {
   "cell_type": "markdown",
   "metadata": {
    "deletable": false,
    "nbgrader": {}
   },
   "source": [
    "Given the above information about $P(X=x)$, $P(Y=y)$, and $P(Z=z\\ |\\ X=x,X=y)$, it is now possible to derive the joint probability distribution on $X$, $Y$, and $Z$ in order to populate the fourth column for the following table (Table 2). Let's walk through how to do this in the next few questions.\n",
    "  \n",
    "<table class=\"table table-striped\" style=\"width: 20em;\">\n",
    "    <thead>\n",
    "\t<tr>\n",
    "\t\t<th> x </th>\n",
    "\t\t<th> y </th>\n",
    "\t\t<th> z </th>\n",
    "\t\t<th style=\"white-space: nowrap; width:10em\"> P(X=x, Y=y, Z=z) </th>\n",
    "\t</tr>\n",
    "    </thead>\n",
    "    <tbody>\n",
    "\t<tr>\n",
    "\t\t<td> 0 </td>\n",
    "\t\t<td> 0 </td>\n",
    "\t\t<td> 0 </td>\n",
    "\t\t<td></td>\n",
    "\t</tr>\n",
    "\t<tr>\n",
    "\t\t<td> 0 </td>\n",
    "\t\t<td> 0 </td>\n",
    "\t\t<td> 1 </td>\n",
    "\t\t<td></td>\n",
    "\t</tr>\n",
    "\t<tr>\n",
    "\t\t<td> 0 </td>\n",
    "\t\t<td> 1 </td>\n",
    "\t\t<td> 0 </td>\n",
    "\t\t<td></td>\n",
    "\t</tr>\n",
    "\t<tr>\n",
    "\t\t<td> 0 </td>\n",
    "\t\t<td> 1 </td>\n",
    "\t\t<td> 1 </td>\n",
    "\t\t<td></td>\n",
    "\t</tr>\n",
    "\t<tr>\n",
    "\t\t<td> 1 </td>\n",
    "\t\t<td> 0 </td>\n",
    "\t\t<td> 0 </td>\n",
    "\t\t<td></td>\n",
    "\t</tr>\n",
    "\t<tr>\n",
    "\t\t<td> 1 </td>\n",
    "\t\t<td> 0 </td>\n",
    "\t\t<td> 1 </td>\n",
    "\t\t<td></td>\n",
    "\t</tr>\n",
    "\t<tr>\n",
    "\t\t<td> 1 </td>\n",
    "\t\t<td> 1 </td>\n",
    "\t\t<td> 0 </td>\n",
    "\t\t<td></td>\n",
    "\t</tr>\n",
    "\t<tr>\n",
    "\t\t<td> 1 </td>\n",
    "\t\t<td> 1 </td>\n",
    "\t\t<td> 1 </td>\n",
    "\t<td></td>\n",
    "\t</tr>\n",
    "    </tbody>\n",
    "</table> "
   ]
  },
  {
   "cell_type": "markdown",
   "metadata": {
    "deletable": false,
    "nbgrader": {}
   },
   "source": [
    "### Q2.1 Joint probability formula [2pts, HELP]\n",
    "<div class=\"alert alert-success\">\n",
    "\n",
    "First, complete the equation below to compute the joint probability. Your answer should indicate how the probability can be calculated from $P(X=x)$, $P(Y=y)$, and $P(Z=z\\ |\\ X=x,Y=y)$. As a reminder, your answer MUST be formatted using LaTeX.\n",
    "\n",
    "</div>\n",
    "\n",
    "Type your answer in the Markdown cell below. Double-click on the Markdown cell to edit it. "
   ]
  },
  {
   "cell_type": "markdown",
   "metadata": {
    "deletable": false,
    "nbgrader": {
     "checksum": "97ccd42befc620a630b3ead4d2079119",
     "grade": true,
     "grade_id": "joint-equation",
     "points": 0.5,
     "solution": true
    }
   },
   "source": [
    "<!-- YOUR ANSWER HERE -->\n",
    "$$ P(X=x, Y=y, Z=z) =  P(Z=z\\ |\\ X=x,Y=y) \\cdot P(X=x) \\cdot P(Y=y) $$"
   ]
  },
  {
   "cell_type": "markdown",
   "metadata": {
    "deletable": false,
    "nbgrader": {}
   },
   "source": [
    "### Q2.2 Joint probability code [3pts, SOLO]\n",
    "<div class=\"alert alert-success\">\n",
    "\n",
    "Now, complete the function `joint` according to the equation you defined above to returns the joint probability. Use the functions `p_x`, `p_y`, and `p_z_given_xy` in the function definition, but do *not* call the function `bernoulli` directly in `joint`. Values of $\\theta$ are pre-defined in `p_x`, `p_y`, and `p_z_given_xy`. \n",
    "</div>\n",
    "\n",
    "Remember: `p_x`, `p_y`, and `p_z_given_xy` are *functions* that you can call (with appropriate input arguments, of course).\n",
    "\n",
    "Once you have implemented the `joint` function, proceed to compute the missing values in Table 2 by applying the `joint` function to each combination of $x$, $y$, and $z$ values in the next cell. Submit the output of this cell in gradescope **and** your code for the `joint` function.\n"
   ]
  },
  {
   "cell_type": "code",
   "execution_count": 7,
   "metadata": {
    "deletable": false,
    "nbgrader": {
     "checksum": "daf6b4e1d28c38e9501e5eb9978f212c",
     "grade_id": "joint",
     "solution": true
    }
   },
   "outputs": [],
   "source": [
    "def joint(x, y, z):\n",
    "    \"\"\"\n",
    "    Returns the joint probability distribution P(X=x, Y=y, Z=z)\n",
    "    for the values x, y, and z.\n",
    "    \n",
    "    Parameters\n",
    "    ----------\n",
    "    x, y, z: integer\n",
    "        Value of random variable X, Y, and Z, respectively\n",
    " \n",
    "    Returns\n",
    "    -------\n",
    "    a float corresponding to the joint probability\n",
    "    \n",
    "    \"\"\"\n",
    "    # YOUR CODE HERE\n",
    "    return p_x(x) * p_y(y) * p_z_given_xy(z,x,y)"
   ]
  },
  {
   "cell_type": "code",
   "execution_count": 8,
   "metadata": {
    "deletable": false,
    "nbgrader": {}
   },
   "outputs": [],
   "source": [
    "# (optional) add your own test cases here! Do not submit this to gradescope.\n"
   ]
  },
  {
   "cell_type": "markdown",
   "metadata": {},
   "source": [
    "Check that `joint` produces expected output:"
   ]
  },
  {
   "cell_type": "code",
   "execution_count": 9,
   "metadata": {
    "deletable": false,
    "nbgrader": {
     "checksum": "3ffbccc4f253dde4bfa53eeabeec2fcb",
     "grade": true,
     "grade_id": "test_joint",
     "points": 0.5
    }
   },
   "outputs": [
    {
     "name": "stdout",
     "output_type": "stream",
     "text": [
      "Success!\n"
     ]
    }
   ],
   "source": [
    "from numpy.testing import assert_allclose\n",
    "\n",
    "# first assume that p_x, p_y, and p_z_given_xy have the specified values\n",
    "assert_allclose(joint(0, 0, 0), 0.304)\n",
    "assert_allclose(joint(1, 1, 1), 0.12)\n",
    "\n",
    "# check that the p_x, p_y, and p_z_given_xy functions are called\n",
    "old_p_x = p_x\n",
    "old_p_y = p_y\n",
    "old_p_z_given_xy = p_z_given_xy\n",
    "del p_x\n",
    "del p_y\n",
    "del p_z_given_xy\n",
    "try:\n",
    "    joint(0, 0, 1)\n",
    "except NameError:\n",
    "    pass\n",
    "else:\n",
    "    raise AssertionError(\"joint does not call one or more of the p_x, p_y, and/or p_z_given_xy functions\")\n",
    "finally:\n",
    "    p_x = old_p_x\n",
    "    p_y = old_p_y\n",
    "    p_z_given_xy = old_p_z_given_xy\n",
    "    del old_p_x\n",
    "    del old_p_y\n",
    "    del old_p_z_given_xy\n",
    "    \n",
    "# switch out p_x, p_y, and p_z_given_xy with alternative theta values\n",
    "old_p_x = p_x\n",
    "old_p_y = p_y\n",
    "old_p_z_given_xy = p_z_given_xy\n",
    "def p_x(x):\n",
    "    return bernoulli(x, 0.5)\n",
    "def p_y(y):\n",
    "    return bernoulli(y, 0.3)\n",
    "def p_z_given_xy(z, x, y):\n",
    "    if x == 0 and y == 0:\n",
    "        return bernoulli(z, 0.8)\n",
    "    else:\n",
    "        return bernoulli(z, 0.7)\n",
    "\n",
    "try:\n",
    "    assert_allclose(joint(0, 0, 0), 0.07)\n",
    "    assert_allclose(joint(0, 0, 1), 0.28)\n",
    "    assert_allclose(joint(0, 1, 0), 0.045)\n",
    "    assert_allclose(joint(0, 1, 1), 0.105)\n",
    "    assert_allclose(joint(1, 0, 0), 0.105)\n",
    "    assert_allclose(joint(1, 0, 1), 0.245)\n",
    "    assert_allclose(joint(1, 1, 0), 0.045)\n",
    "    assert_allclose(joint(1, 1, 1), 0.105)\n",
    "finally:\n",
    "    p_x = old_p_x\n",
    "    p_y = old_p_y\n",
    "    p_z_given_xy = old_p_z_given_xy\n",
    "    del old_p_x, old_p_y, old_p_z_given_xy\n",
    "    \n",
    "print(\"Success!\")"
   ]
  },
  {
   "cell_type": "markdown",
   "metadata": {},
   "source": [
    "Copy the output of the following cell to submit in gradescope:"
   ]
  },
  {
   "cell_type": "code",
   "execution_count": 10,
   "metadata": {
    "deletable": false,
    "nbgrader": {}
   },
   "outputs": [
    {
     "name": "stdout",
     "output_type": "stream",
     "text": [
      "P(X=0, Y=0, Z=0) = 0.3\n",
      "P(X=0, Y=0, Z=1) = 0.016\n",
      "P(X=0, Y=1, Z=0) = 0\n",
      "P(X=0, Y=1, Z=1) = 0.08\n",
      "P(X=1, Y=0, Z=0) = 0\n",
      "P(X=1, Y=0, Z=1) = 0.48\n",
      "P(X=1, Y=1, Z=0) = 0\n",
      "P(X=1, Y=1, Z=1) = 0.12\n"
     ]
    }
   ],
   "source": [
    "for x in [0, 1]:\n",
    "    for y in [0, 1]:\n",
    "        for z in [0, 1]:\n",
    "            print(\"P(X={}, Y={}, Z={}) = {:.2g}\".format(x, y, z, joint(x, y, z)))\n"
   ]
  },
  {
   "cell_type": "markdown",
   "metadata": {},
   "source": [
    "### Q2.3 Joint probability discussion [2pts, SOLO]\n",
    "If you implemented the `joint` function correctly, the cell above with test cases should print `Success!`. Furthermore, three events should have a probability of $0$. Describe in **one sentence** using plain text which three events they are. Then, explain why their joint probabilities are zero based on the meaning of the random variables (e.g. X is whether the sprinklers were on) and the structure of the graphical model in **at most one sentence per event**. "
   ]
  },
  {
   "cell_type": "markdown",
   "metadata": {},
   "source": [
    "The three events that have zero probabilities are sprinklers off/rained/dry grass, sprinklers on/didn't rain/dry grass, and sprinklers on/rained/dry grass. The reason why their joint probabilities are zero is because observing either of the sprinklers being on or rain occurring influence whether we observe wet grass, as indicated in the graphical model. Thus, observing any combination of either sprinklers being on, rain, or both, and non-wet grass has zero probability."
   ]
  },
  {
   "cell_type": "markdown",
   "metadata": {
    "deletable": false,
    "nbgrader": {}
   },
   "source": [
    "---\n",
    "## Q3  Conditional probability [5 pts total]\n",
    "\n",
    "Imagine that you observe the grass is wet in the morning ($Z=1$). What happens to your beliefs about the sprinklers being on and whether it rained last night? To answer this question, we need to compute the conditional probability distribution over $X$ and $Y$ when $Z=z$. We can calculate this conditional probability distribution $P(X=x,Y=y\\ |\\ Z=z)$ using the joint probability distribution $P(X=x, Y=y, Z=z)$ as follows:\n",
    "\n",
    "$$\n",
    "P(X=x,Y=y\\ |\\ Z=z)=\\frac{P(X=x, Y=y, Z=z)}{\\sum_{m\\in\\{0, 1\\}}\\sum_{n\\in \\{0, 1\\}} P(X=m, Y=n, Z=z)}\n",
    "$$\n",
    "\n",
    "Note that the denominator of this equation is equivalent to $P(Z=z)$."
   ]
  },
  {
   "cell_type": "markdown",
   "metadata": {
    "collapsed": true,
    "deletable": false,
    "jupyter": {
     "outputs_hidden": true
    },
    "nbgrader": {
     "solution": false
    }
   },
   "source": [
    "\n",
    "## Q3.1 Conditional probability function [2 pts, HELP]\n",
    "<div class=\"alert alert-success\">\n",
    "\n",
    "Complete the function `p_xy_given_z` to return $P(X=x,Y=y~|~Z=z)$ for given input values of $x$, $y$, $z$. Your answer should use the `joint` function you implemented above.\n",
    "</div>\n",
    "Copy your answer into gradescope."
   ]
  },
  {
   "cell_type": "code",
   "execution_count": 11,
   "metadata": {
    "deletable": false,
    "nbgrader": {
     "checksum": "90c4bd4ec60c6d8793084ddf3099bcaf",
     "grade_id": "p_xy_given_z",
     "solution": true
    }
   },
   "outputs": [],
   "source": [
    "def p_xy_given_z(x, y, z):\n",
    "    \"\"\"\n",
    "    Returns the conditional probability distribution P(X=x, Y=y | Z=z)\n",
    "    for the values x, y, and z.\n",
    "    \n",
    "    Parameters\n",
    "    ----------\n",
    "    x, y, z: integers\n",
    "        values of random variables X, Y, and Z, respectively\n",
    " \n",
    "    Returns\n",
    "    -------\n",
    "    a float corresponding to the conditional probability\n",
    "    \n",
    "    \"\"\"\n",
    "    # YOUR CODE HERE\n",
    "    denom = 0\n",
    "    for m in np.arange(2):\n",
    "        for n in np.arange(2):\n",
    "            denom += joint(m,n,z)\n",
    "            \n",
    "    return joint(x,y,z)/denom"
   ]
  },
  {
   "cell_type": "code",
   "execution_count": 12,
   "metadata": {
    "deletable": false,
    "nbgrader": {}
   },
   "outputs": [],
   "source": [
    "# (optional) add your own test cases here! Do not submit this to gradescope.\n"
   ]
  },
  {
   "cell_type": "markdown",
   "metadata": {},
   "source": [
    "Check that `p_xy_given_z` produces expected output (do not submit this to gradescope):"
   ]
  },
  {
   "cell_type": "code",
   "execution_count": 13,
   "metadata": {
    "deletable": false,
    "nbgrader": {
     "checksum": "c13b2b447541a62d397c2727d9ad2f79",
     "grade": true,
     "grade_id": "test_p_xy_given_z",
     "points": 1
    }
   },
   "outputs": [
    {
     "name": "stdout",
     "output_type": "stream",
     "text": [
      "Success!\n"
     ]
    }
   ],
   "source": [
    "assert_allclose(p_xy_given_z(0, 0, 0), 1.0, atol=1e-05)\n",
    "assert_allclose(p_xy_given_z(0, 1, 1), 0.11494, atol=1e-05)\n",
    "assert_allclose(p_xy_given_z(1, 0, 1), 0.68965, atol=1e-05)\n",
    "    \n",
    "# check that it calls joint\n",
    "old_joint = joint\n",
    "del joint\n",
    "try:\n",
    "    p_xy_given_z(0, 0, 1)\n",
    "except NameError:\n",
    "    pass\n",
    "else:\n",
    "    raise AssertionError(\"p_xy_given_z does not call the joint function\")\n",
    "finally:\n",
    "    joint = old_joint\n",
    "    del old_joint\n",
    "    \n",
    "# switch out p_x, p_y, and p_z_given_xy with alternative theta values\n",
    "old_p_x = p_x\n",
    "old_p_y = p_y\n",
    "old_p_z_given_xy = p_z_given_xy\n",
    "def p_x(x):\n",
    "    return bernoulli(x, 0.5)\n",
    "def p_y(y):\n",
    "    return bernoulli(y, 0.3)\n",
    "def p_z_given_xy(z, x, y):\n",
    "    if x == 0 and y == 0:\n",
    "        return bernoulli(z, 0.8)\n",
    "    else:\n",
    "        return bernoulli(z, 0.7)\n",
    "\n",
    "try:\n",
    "    assert_allclose(p_xy_given_z(0, 0, 0), 0.2641509433962263, atol=1e-05)\n",
    "    assert_allclose(p_xy_given_z(0, 1, 0), 0.169811320754717, atol=1e-05)\n",
    "    assert_allclose(p_xy_given_z(1, 0, 0), 0.39622641509433965, atol=1e-05)\n",
    "    assert_allclose(p_xy_given_z(1, 1, 0), 0.169811320754717, atol=1e-05)\n",
    "    assert_allclose(p_xy_given_z(0, 0, 1), 0.380952380952381, atol=1e-05)\n",
    "    assert_allclose(p_xy_given_z(0, 1, 1), 0.14285714285714288, atol=1e-05)\n",
    "    assert_allclose(p_xy_given_z(1, 0, 1), 0.33333333333333337, atol=1e-05)\n",
    "    assert_allclose(p_xy_given_z(1, 1, 1), 0.14285714285714288, atol=1e-05)\n",
    "finally:\n",
    "    p_x = old_p_x\n",
    "    p_y = old_p_y\n",
    "    p_z_given_xy = old_p_z_given_xy\n",
    "    del old_p_x, old_p_y, old_p_z_given_xy\n",
    "\n",
    "print(\"Success!\")"
   ]
  },
  {
   "cell_type": "markdown",
   "metadata": {
    "deletable": false,
    "nbgrader": {}
   },
   "source": [
    "## Q3.2 Conditional probability discussion [3 pts, SOLO]\n",
    "A) Once you have completed `p_xy_given_z`, we can compute the probabilities for each value combination of $x$, $y$, and $z$.\n",
    "Run the next cell, and copy the output into gradescope.\n",
    "\n",
    "B) If your output is correct, you should see that $P(X = 0, Y=0|Z=0) = 1$. Explain in **at most one sentence** what this means in terms of sprinklers, rain and wet grass, and the structure of the graphical model. Submit your answer to gradescope. \n",
    "\n",
    "C) If your output is correct, $P(X = 0, Y=1|Z=1)$ should be smaller than $P(X = 1, Y=0|Z=1)$. In **at most two sentences**, explain in words what this means under the setup of our problem and why this makes sense based on our generative graphical model. \n",
    "\n",
    "Note that you can answer B and C even without a working implementation of the functions."
   ]
  },
  {
   "cell_type": "code",
   "execution_count": 14,
   "metadata": {
    "deletable": false,
    "nbgrader": {}
   },
   "outputs": [
    {
     "name": "stdout",
     "output_type": "stream",
     "text": [
      "P(X=0, Y=0 | Z=0) = 1\n",
      "P(X=0, Y=1 | Z=0) = 0\n",
      "P(X=1, Y=0 | Z=0) = 0\n",
      "P(X=1, Y=1 | Z=0) = 0\n",
      "P(X=0, Y=0 | Z=1) = 0.023\n",
      "P(X=0, Y=1 | Z=1) = 0.11\n",
      "P(X=1, Y=0 | Z=1) = 0.69\n",
      "P(X=1, Y=1 | Z=1) = 0.17\n"
     ]
    }
   ],
   "source": [
    "# Copy the output of this cell in gradescope for Q3.2A\n",
    "for z in [0, 1]:\n",
    "    for x in [0, 1]:\n",
    "        for y in [0, 1]:\n",
    "            print(\"P(X={}, Y={} | Z={}) = {:.2g}\".format(\n",
    "                x, y, z, p_xy_given_z(x, y, z)))\n"
   ]
  },
  {
   "cell_type": "markdown",
   "metadata": {},
   "source": [
    "B) This output means that it's 100% likely that the sprinklers were off and that it didn't rain last night given that we observed that the grass is not wet.\n",
    "\n",
    "C) This output means that it was more likely that the sprinklers were on given we observed wet grass than rain occurring. This makes sense, because our generative model has a higher probability of the sprinklers being on (0.6) than it having rained (0.2)."
   ]
  },
  {
   "cell_type": "markdown",
   "metadata": {
    "deletable": false,
    "nbgrader": {
     "solution": false
    }
   },
   "source": [
    "---\n",
    "## Q4 Marginalization [8 pts total]\n",
    "\n",
    "\n",
    "### Q4.1 Equation [2pts, HELP]\n",
    "Now assume that we are only interested in whether the sprinklers were on, given the observation that the grass is wet ($z=1$) or not ($z=0$).\n",
    "\n",
    "<div class=\"alert alert-success\">\n",
    "\n",
    "Define the equation to compute $P(X=x\\ |\\ Z=z)$ in LaTex format like in Q2.1. Your answer should indicate how it can be calculated using $P(X=x, Y=y, Z=z)$. As a reminder, your answer MUST be formatted using LaTeX.\n",
    "</div>\n",
    "\n",
    "Type your answer in the Markdown cell below."
   ]
  },
  {
   "cell_type": "markdown",
   "metadata": {
    "deletable": false,
    "nbgrader": {
     "checksum": "511fc3e5c2636373d5f92a4f7eb34b4f",
     "grade": true,
     "grade_id": "eq_p_x_given_z",
     "points": 0.33,
     "solution": true
    }
   },
   "source": [
    "<!-- YOUR ANSWER HERE -->\n",
    "\n",
    "$$P(X=x\\ |\\ Z=z) = \\frac{\\sum_{n\\in \\{0,1\\}}P(X=x, Y=n, Z=z)}{\\sum_{m\\in\\{0, 1\\}}\\sum_{n\\in \\{0, 1\\}} P(X=m, Y=n, Z=z)}$$"
   ]
  },
  {
   "cell_type": "markdown",
   "metadata": {
    "deletable": false,
    "nbgrader": {}
   },
   "source": [
    "\n",
    "### Q4.2 p_x_given_z [3pts, SOLO]\n",
    "<div class=\"alert alert-success\">\n",
    "\n",
    "Implement the function `p_x_given_z` to return $P(X=x\\ |\\ Z=z)$ for given values of $x$ and $z$. Your function should call the `joint` function you implemented earlier.</div>\n",
    "Check that your implementation returns the correct output using the provided test cases and your own. \n",
    "\n",
    "**Q4.2 A** Copy your code into gradescope.\n",
    "\n",
    "**Q4.2 B** Also report the output of the cell below, where indicated."
   ]
  },
  {
   "cell_type": "code",
   "execution_count": 15,
   "metadata": {
    "deletable": false,
    "nbgrader": {
     "checksum": "5c5375d31b8209e95f2ec0853c578533",
     "grade_id": "p_x_given_z",
     "solution": true
    }
   },
   "outputs": [],
   "source": [
    "def p_x_given_z(x, z):\n",
    "    \"\"\"\n",
    "    Returns the marginal probability distribution P(X=x | Z=z) given \n",
    "    the values x and z.\n",
    "    \n",
    "    Parameters\n",
    "    ----------\n",
    "    x, z : integers\n",
    "        values of the random variables X and Z, respectively\n",
    " \n",
    "    Returns\n",
    "    -------\n",
    "    a float corresponding to the marginal probability\n",
    "    \n",
    "    \"\"\"\n",
    "    # YOUR CODE HERE\n",
    "    denom = 0\n",
    "    for m in np.arange(2):\n",
    "        for n in np.arange(2):\n",
    "            denom += joint(m,n,z)\n",
    "            \n",
    "    numer = 0\n",
    "    for n in np.arange(2):\n",
    "        numer += joint(x,n,z)\n",
    "        \n",
    "    return numer/denom"
   ]
  },
  {
   "cell_type": "code",
   "execution_count": 16,
   "metadata": {
    "deletable": false,
    "nbgrader": {}
   },
   "outputs": [],
   "source": [
    "# (optional) add your own test cases here! Do not submit this to gradescope.\n"
   ]
  },
  {
   "cell_type": "markdown",
   "metadata": {},
   "source": [
    "Check that `p_x_given_z` produces expected output:"
   ]
  },
  {
   "cell_type": "code",
   "execution_count": 17,
   "metadata": {
    "deletable": false,
    "nbgrader": {
     "checksum": "ee17bca2e25112785099daf7a6c6e7ff",
     "grade": true,
     "grade_id": "test_p_x_given_z",
     "points": 0.34
    }
   },
   "outputs": [
    {
     "name": "stdout",
     "output_type": "stream",
     "text": [
      "Success!\n"
     ]
    }
   ],
   "source": [
    "# check that it calls joint\n",
    "old_joint = joint\n",
    "del joint\n",
    "try:\n",
    "    p_x_given_z(0, 1)\n",
    "except NameError:\n",
    "    pass\n",
    "else:\n",
    "    raise AssertionError(\"p_x_given_z does not call the joint function\")\n",
    "finally:\n",
    "    joint = old_joint\n",
    "    del old_joint\n",
    "    \n",
    "# switch out p_x, p_y, and p_z_given_xy with alternative theta values\n",
    "old_p_x = p_x\n",
    "old_p_y = p_y\n",
    "old_p_z_given_xy = p_z_given_xy\n",
    "def p_x(x):\n",
    "    return bernoulli(x, 0.5)\n",
    "def p_y(y):\n",
    "    return bernoulli(y, 0.3)\n",
    "def p_z_given_xy(z, x, y):\n",
    "    if x == 0 and y == 0:\n",
    "        return bernoulli(z, 0.8)\n",
    "    else:\n",
    "        return bernoulli(z, 0.7)\n",
    "\n",
    "try:\n",
    "    assert_allclose(p_x_given_z(1, 1), 0.4761904761904762, atol=1e-05)\n",
    "    assert_allclose(p_x_given_z(0, 1), 0.5238095238095238, atol=1e-05)\n",
    "    assert_allclose(p_x_given_z(1, 0), 0.5660377358490567, atol=1e-05)\n",
    "    assert_allclose(p_x_given_z(0, 0), 0.43396226415094336, atol=1e-05)\n",
    "finally:\n",
    "    p_x = old_p_x\n",
    "    p_y = old_p_y\n",
    "    p_z_given_xy = old_p_z_given_xy\n",
    "    del old_p_x, old_p_y, old_p_z_given_xy\n",
    "\n",
    "print(\"Success!\")"
   ]
  },
  {
   "cell_type": "markdown",
   "metadata": {
    "collapsed": true,
    "deletable": false,
    "jupyter": {
     "outputs_hidden": true
    },
    "nbgrader": {}
   },
   "source": [
    "\n",
    "**Q4.2 B** \n",
    "\n",
    "Once you have implemented `p_x_given_z`, we can print out the probability table for all values of $X$ and $Z$.\n",
    "Copy the output of the cell below into gradescope.\n"
   ]
  },
  {
   "cell_type": "code",
   "execution_count": 18,
   "metadata": {
    "deletable": false,
    "nbgrader": {}
   },
   "outputs": [
    {
     "name": "stdout",
     "output_type": "stream",
     "text": [
      "P(X=0 | Z=0) = 1.0\n",
      "P(X=1 | Z=0) = 0.0\n",
      "P(X=0 | Z=1) = 0.13793103448275865\n",
      "P(X=1 | Z=1) = 0.8620689655172414\n"
     ]
    }
   ],
   "source": [
    "# Copy the output of this cell in gradescope for Q4.2B\n",
    "\n",
    "for z in [0, 1]:\n",
    "    for x in [0, 1]:\n",
    "        print(\"P(X={} | Z={}) = {}\".format(x, z, p_x_given_z(x, z)))"
   ]
  },
  {
   "cell_type": "markdown",
   "metadata": {
    "deletable": false,
    "nbgrader": {}
   },
   "source": [
    "### Q4.3. Calculate p_x_given_z [3pts, SOLO]\n",
    "<div class=\"alert alert-success\">\n",
    "\n",
    "Run the cell below to compute $P(~X=1~)$ and $P(~X=1~|~Z=1~)$, and copy the output into gradescope. What does observing that the grass is wet do to the belief about whether the sprinklers were on and why? Explain in **at most two sentences**.\n",
    "</div>"
   ]
  },
  {
   "cell_type": "code",
   "execution_count": 19,
   "metadata": {
    "deletable": false,
    "nbgrader": {
     "checksum": "efc568ca0a9ed051ad8f83e5fc1230a9",
     "grade": false,
     "grade_id": "part_d_results",
     "locked": true,
     "solution": false
    }
   },
   "outputs": [
    {
     "name": "stdout",
     "output_type": "stream",
     "text": [
      "P(X=1)       = 0.6\n",
      "P(X=1 | Z=1) = 0.8620689655172414\n"
     ]
    }
   ],
   "source": [
    "# Copy and paste the output of this cell in gradescope\n",
    "print(\"P(X=1)       = {}\".format(p_x(1)))\n",
    "print(\"P(X=1 | Z=1) = {}\".format(p_x_given_z(1, 1)))"
   ]
  },
  {
   "cell_type": "markdown",
   "metadata": {},
   "source": [
    "Observing that the grass is wet makes it more likely for us to believe that the sprinklers were on. This is because if we didn't have any knowledge that the grass was wet, then we would only have the probability of the sprinklers being on; but if we do have prior knowledge that the grass was wet, then it makes it more likely that the sprinklers were on so as to have caused the grass to be wet."
   ]
  },
  {
   "cell_type": "markdown",
   "metadata": {
    "deletable": false,
    "nbgrader": {}
   },
   "source": [
    "---\n",
    "## Q5 [7 pts total]\n",
    "\n",
    "Imagine you got into your car, and heard on the radio that it rained last night ($Y=1$). Let's see how that affects your belief about whether the sprinklers were on.\n",
    "\n",
    "\n",
    "### Q5.1 Equation [2pts, HELP]\n",
    "<div class=\"alert alert-success\">\n",
    "\n",
    "Write down the equation for $P(X=x\\ |\\ Y=y, Z=z)$ in LaTex format like in Q2.1. Your answer should indicate how it can be calculated using $P(X=x, Y=y, Z=z)$. As a reminder, your answer MUST be formatted using LaTeX.</div>\n",
    "\n",
    "Type your answer in the Markdown cell below."
   ]
  },
  {
   "cell_type": "markdown",
   "metadata": {
    "deletable": false,
    "nbgrader": {
     "checksum": "84dd0df91692a688182c672afec8bee0",
     "grade": true,
     "grade_id": "eq_p_x_given_zy",
     "points": 0.33,
     "solution": true
    }
   },
   "source": [
    "<!-- YOUR ANSWER HERE -->\n",
    "\n",
    "$$P(X=x\\ |\\ Y=y,Z=z) = \\frac{P(X=x, Y=y, Z=z)}{\\sum_{m\\in (0,1)}P(X=m, Y=y, Z=z)} $$"
   ]
  },
  {
   "cell_type": "markdown",
   "metadata": {
    "deletable": false,
    "nbgrader": {}
   },
   "source": [
    "### Q5.2 Code [3pts, SOLO]\n",
    "<div class=\"alert alert-success\">\n",
    "\n",
    "Using your equation, complete the function `p_x_given_yz` to return $P(~X=x~|~Y=y,Z=z~)$ for given values of $x$, $y$ and $z$. As before, your function should call the `joint` function you defined earlier or a function that calls it.</div>\n",
    "\n",
    "**Q5.2 A** Copy and paste your code for `p_x_given_yz` in Gradescope.    \n",
    "   \n",
    "   \n",
    "**Q5.2 B** Copy the output of the cell that prints out the full table values into Gradescope."
   ]
  },
  {
   "cell_type": "code",
   "execution_count": 20,
   "metadata": {
    "deletable": false,
    "nbgrader": {
     "checksum": "1f3db42baef379345de8d4b8a1b5f6e5",
     "grade_id": "p_x_given_yz",
     "solution": true
    }
   },
   "outputs": [],
   "source": [
    "def p_x_given_yz(x, y, z):\n",
    "    \"\"\"\n",
    "    Returns the conditional probability distribution P(X=x | Y=y, Z=z)\n",
    "    given the values x, y, and z.\n",
    "    \n",
    "    Parameters\n",
    "    ----------\n",
    "    x, y, z : integers\n",
    "        values of the random variables X, Y, and Z\n",
    " \n",
    "    Returns\n",
    "    -------\n",
    "    a float corresponding to the conditional probability\n",
    "    \n",
    "    \"\"\"\n",
    "    # Return 0 if the joint probability is 0\n",
    "    if joint(x,y,z)==0:\n",
    "        return 0\n",
    "\n",
    "    # YOUR CODE HERE\n",
    "    return joint(x,y,z)/(joint(1,y,z)+joint(0,y,z))"
   ]
  },
  {
   "cell_type": "code",
   "execution_count": 21,
   "metadata": {
    "deletable": false,
    "nbgrader": {}
   },
   "outputs": [],
   "source": [
    "# (optional) add your own test cases here! Do not submit this to gradescope.\n"
   ]
  },
  {
   "cell_type": "markdown",
   "metadata": {},
   "source": [
    "Check that `p_x_given_yz` produces expected output:"
   ]
  },
  {
   "cell_type": "code",
   "execution_count": 22,
   "metadata": {
    "deletable": false,
    "nbgrader": {
     "checksum": "30aaba16ba57392f6333ab364f86b16c",
     "grade": true,
     "grade_id": "test_p_x_given_yz",
     "points": 0.34
    }
   },
   "outputs": [
    {
     "name": "stdout",
     "output_type": "stream",
     "text": [
      "Success!\n"
     ]
    }
   ],
   "source": [
    "# check that it calls joint\n",
    "old_joint = joint\n",
    "del joint\n",
    "try:\n",
    "    p_x_given_yz(0, 1, 1)\n",
    "except NameError:\n",
    "    pass\n",
    "else:\n",
    "    raise AssertionError(\"p_x_given_yz does not call the joint function\")\n",
    "finally:\n",
    "    joint = old_joint\n",
    "    del old_joint\n",
    "    \n",
    "# switch out p_x, p_y, and p_z_given_xy with alternative theta values\n",
    "old_p_x = p_x\n",
    "old_p_y = p_y\n",
    "old_p_z_given_xy = p_z_given_xy\n",
    "def p_x(x):\n",
    "    return bernoulli(x, 0.5)\n",
    "def p_y(y):\n",
    "    return bernoulli(y, 0.3)\n",
    "def p_z_given_xy(z, x, y):\n",
    "    if x == 0 and y == 0:\n",
    "        return bernoulli(z, 0.8)\n",
    "    else:\n",
    "        return bernoulli(z, 0.7)\n",
    "\n",
    "try:\n",
    "    assert_allclose(p_x_given_yz(0, 0, 0), 0.4, atol=1e-05)\n",
    "    assert_allclose(p_x_given_yz(1, 0, 0), 0.6, atol=1e-05)\n",
    "    assert_allclose(p_x_given_yz(0, 1, 0), 0.5, atol=1e-05)\n",
    "    assert_allclose(p_x_given_yz(1, 1, 0), 0.5, atol=1e-05)\n",
    "    assert_allclose(p_x_given_yz(0, 0, 1), 0.5333333333333333, atol=1e-05)\n",
    "    assert_allclose(p_x_given_yz(1, 0, 1), 0.4666666666666667, atol=1e-05)\n",
    "    assert_allclose(p_x_given_yz(0, 1, 1), 0.5, atol=1e-05)\n",
    "    assert_allclose(p_x_given_yz(1, 1, 1), 0.5, atol=1e-05)\n",
    "finally:\n",
    "    p_x = old_p_x\n",
    "    p_y = old_p_y\n",
    "    p_z_given_xy = old_p_z_given_xy\n",
    "    del old_p_x, old_p_y, old_p_z_given_xy\n",
    "\n",
    "print(\"Success!\")"
   ]
  },
  {
   "cell_type": "markdown",
   "metadata": {
    "deletable": false,
    "nbgrader": {}
   },
   "source": [
    "After you have implemented `p_x_given_yz`, you can print out the full probability table. Submit the output of the cell below in gradescope. "
   ]
  },
  {
   "cell_type": "code",
   "execution_count": 23,
   "metadata": {
    "deletable": false,
    "nbgrader": {}
   },
   "outputs": [
    {
     "name": "stdout",
     "output_type": "stream",
     "text": [
      "P(X=0 | Y=0, Z=0) = 1.0\n",
      "P(X=1 | Y=0, Z=0) = 0\n",
      "P(X=0 | Y=1, Z=0) = 0\n",
      "P(X=1 | Y=1, Z=0) = 0\n",
      "P(X=0 | Y=0, Z=1) = 0.03225806451612904\n",
      "P(X=1 | Y=0, Z=1) = 0.9677419354838709\n",
      "P(X=0 | Y=1, Z=1) = 0.4000000000000001\n",
      "P(X=1 | Y=1, Z=1) = 0.6\n"
     ]
    }
   ],
   "source": [
    "# Copy the output of this cell into gradescope\n",
    "for z in [0, 1]:\n",
    "    for y in [0, 1]:\n",
    "        for x in [0, 1]:\n",
    "            print(\"P(X={} | Y={}, Z={}) = {}\".format(x, y, z, p_x_given_yz(x, y, z)))"
   ]
  },
  {
   "cell_type": "markdown",
   "metadata": {
    "deletable": false,
    "nbgrader": {}
   },
   "source": [
    "### Q5.3 Interpretation  [2pts, SOLO]\n",
    "\n",
    "\n",
    "<div class=\"alert alert-success\">\n",
    "\n",
    "Run the cell below to compute $P(~X=1~|~Z=1~)$, $P(~X=1~|~Y=1,Z=1~)$, and $P(~X=1~)$. What is the effect of hearing that it rained ($Y=1$) on your belief that the sprinklers were on ($X=1$), given that you know the grass is wet ($Z=1$)? How does it compare to your belief about whether the sprinklers were on without knowing if the grass is wet? Why does observing that it rained cause this to happen? Answer in **at most three sentences** in total. </div> \n",
    "\n",
    "Hint: if your code is correct, you should get $P(~X=1~|~Z=1~) = 0.862$ and $P(~X=1~|~Y=1,Z=1~) = 0.6$. If your code does not produce the right results, you can still answer the question *based on these correct values*."
   ]
  },
  {
   "cell_type": "code",
   "execution_count": 24,
   "metadata": {
    "deletable": false,
    "nbgrader": {
     "checksum": "0f4736b8cd87c3dd89013ce75be1e9b0",
     "grade": false,
     "grade_id": "part_e_results",
     "locked": true,
     "solution": false
    }
   },
   "outputs": [
    {
     "name": "stdout",
     "output_type": "stream",
     "text": [
      "P(X=1 | Z=1)      = 0.8620689655172414\n",
      "P(X=1 | Y=1, Z=1) = 0.6\n",
      "P(X=1)            = 0.6\n"
     ]
    }
   ],
   "source": [
    "# Copy the output of this cell in Gradescope for Q5.3A\n",
    "print(\"P(X=1 | Z=1)      = {}\".format(p_x_given_z(1, 1)))\n",
    "print(\"P(X=1 | Y=1, Z=1) = {}\".format(p_x_given_yz(1, 1, 1)))\n",
    "print(\"P(X=1)            = {}\".format(p_x(1)))"
   ]
  },
  {
   "cell_type": "markdown",
   "metadata": {},
   "source": [
    "Observing that it rained (𝑌=1) makes our belief that the sprinklers were on (𝑋=1) less likely, given that the grass is wet. This probability is equal to whether the sprinklers were on without knowing if the grass is wet. Observing that it rained causes this to happen because rain being on activates/causes us to observe that the grass to be wet, so the probability of the sprinklers being on given both it raining and the grass being wet reduces to the probability of the sprinklers being on."
   ]
  },
  {
   "cell_type": "markdown",
   "metadata": {
    "deletable": false,
    "nbgrader": {}
   },
   "source": [
    "---\n",
    "## Q6 Final discussion [5 pts, SOLO]\n",
    "\n",
    "<div class=\"alert alert-success\">\n",
    "\n",
    "The two pieces of evidence we observed (i.e., wet grass and hearing that it rained) both affected the Bayesian network's belief about whether the sprinklers were on. Compare the pattern of inference produced by the Bayesian network with that of a production system like the one in PS3. You don't need to focus on a specific production system or work out its predictions -- just summarize the aspects of this inference that might be hard to capture using a production system. Answer in **no more than two sentences**. </div>"
   ]
  },
  {
   "cell_type": "markdown",
   "metadata": {},
   "source": [
    "The patterns of inferences produced by the Bayesian network, and in particular the probabilities associated with events occurring, given and not given evidence, would be hard to capture using a production system. This is because, unlike Bayesian networks, production systems are like an on/off switch of whether an event is observed or not."
   ]
  },
  {
   "cell_type": "markdown",
   "metadata": {},
   "source": [
    "---\n",
    "<div style=\"background-color: #c1f2a5\">\n",
    "\n",
    "\n",
    "# Part 2\n",
    "\n",
    "In this part of the problem set, we are going to implement k-means clustering.\n",
    "    \n",
    "## Instructions\n",
    "\n",
    "\n",
    "\n",
    "Remember to do your problem set in Python 3. Fill in `#YOUR CODE HERE`.\n",
    "\n",
    "Unless we specify otherwise, make sure: \n",
    "- that all plots are scaled in such a way that you can see what is going on (while still respecting specific plotting instructions) \n",
    "- that the general patterns are fairly represented.\n",
    "- to label all x- and y-axes, and to include a title.\n",
    "    \n",
    "**Test cases are here to help you debug your code, but passing them successfully is not a guarantee that your code is correct.**\n",
    "    \n",
    "</div>"
   ]
  },
  {
   "cell_type": "code",
   "execution_count": 25,
   "metadata": {},
   "outputs": [],
   "source": [
    "%matplotlib inline\n",
    "import matplotlib.pyplot as plt"
   ]
  },
  {
   "cell_type": "markdown",
   "metadata": {},
   "source": [
    "An example observation from the categories cat, dog, and mop are presented below:\n",
    "\n",
    "\n",
    "![](images/test.png)\n",
    "\n",
    "\n",
    "We assume each observation can be represented as a pair of ($x,y$) coordinates, i.e., the objects are represented in a two-dimensional space. Suppose we have some observations from each category of objects, but have lost the information as to which observation belongs to which category.\n",
    "\n",
    "To recover this information, we will use an unsupervised learning algorithm called _k-means clustering_. As you may recall from lecture, the $k$ here refers to the number of clusters or categories we believe exist in the data, and the goal of the algorithm is to assign labels to the data points using their distances to the centers (or means) of the clusters. In other words, each data point should be assigned the category label of the cluster whose center is closest to this data point. For this particular problem, we assume $k=3$. After randomly initializing cluster centers,\n",
    "the algorithm can be broken down into two alternating steps: \n",
    "\n",
    "1. Update the cluster assignments (labels) of the data points based on the nearest cluster centers.\n",
    "2. Update the positions of the cluster centers to reflect the updated assignments of data points.\n",
    "\n",
    "Before you begin, load the data that we will use by running the code cell below. Until Q10, use the `centers` loaded from the `X.npz` file below (i.e., do NOT randomly initialize the values yourself - the autograder relies on a specific initialization). In practice, cluster centers are normally randomly initialized, which we will implement in Q11."
   ]
  },
  {
   "cell_type": "code",
   "execution_count": 26,
   "metadata": {},
   "outputs": [
    {
     "name": "stdout",
     "output_type": "stream",
     "text": [
      "[x,y] coordinates of observations: \n",
      "[[3.17014624 2.42738134]\n",
      " [3.10945591 1.90239505]\n",
      " [2.96418311 1.82748366]\n",
      " [2.91461687 1.88794482]\n",
      " [3.51445266 2.17859409]\n",
      " [2.90636624 1.67106719]\n",
      " [2.9524492  2.15678052]\n",
      " [2.7653169  1.66717629]\n",
      " [2.79663441 1.96728796]\n",
      " [2.85409531 1.54327596]\n",
      " [3.63398062 2.9905047 ]\n",
      " [3.67321618 2.9501688 ]\n",
      " [3.32811256 3.22041747]\n",
      " [3.57939394 2.98596398]\n",
      " [3.54071059 2.78969028]\n",
      " [3.78977898 2.96128904]\n",
      " [3.53209701 3.29714867]\n",
      " [3.75986453 2.89627318]\n",
      " [3.47080721 2.83534581]\n",
      " [3.33792577 3.24599767]\n",
      " [3.02530687 3.60834344]\n",
      " [2.90932354 4.26426491]\n",
      " [2.81529304 3.85310555]\n",
      " [2.6300394  4.0755554 ]\n",
      " [3.03834294 4.0548656 ]\n",
      " [2.92074563 3.78044972]\n",
      " [3.07972956 3.28465006]\n",
      " [2.63586335 4.13388882]\n",
      " [3.33045863 3.91449067]\n",
      " [3.12180098 3.85053529]]\n",
      "\n",
      "[x,y] coordinates of cluster centers: \n",
      "[[4.02596083 2.52095016]\n",
      " [3.07295517 3.6180417 ]\n",
      " [2.10083931 2.40466689]]\n"
     ]
    }
   ],
   "source": [
    "data = np.load('data/X.npz')\n",
    "X = data['X']\n",
    "centers = data['centers'] \n",
    "\n",
    "print ('[x,y] coordinates of observations: \\n' + str(X))\n",
    "print ('\\n[x,y] coordinates of cluster centers: \\n' + str(centers))"
   ]
  },
  {
   "cell_type": "markdown",
   "metadata": {},
   "source": [
    "---\n",
    "\n",
    "## Q7.1 Distance [2pts, SOLO]\n",
    "\n",
    "First, we will need a function that returns the distance between two points. We can use _Euclidean distance_ to compute the distance between two points ($x_1,y_1$) and ($x_2,y_2$). Recall **from the MDS examples** that Euclidean distance in $\\mathbb{R}^2$ is calculated as:\n",
    "\n",
    "$$\n",
    "distance((x_1,y_1),(x_2,y_2)) = \\sqrt{(x_1 - x_2)^{2} + (y_1 - y_2)^{2}}\n",
    "$$\n",
    "\n",
    "<div class=\"alert alert-success\">\n",
    "\n",
    "Implement the `distance` function below to calculate the Euclidean distance between two points in $\\mathbb{R}^2$. Copy and paste your code in gradescope.\n",
    "</div>"
   ]
  },
  {
   "cell_type": "code",
   "execution_count": 27,
   "metadata": {},
   "outputs": [],
   "source": [
    "def distance(a, b):\n",
    "    \"\"\"\n",
    "    Returns the Euclidean distance between two points, \n",
    "    a and b, in R^2.\n",
    "    \n",
    "    Parameters\n",
    "    ----------\n",
    "    a, b : numpy arrays of shape (2,)\n",
    "        The (x,y) coordinates for two points, a and b, \n",
    "        in R^2. E.g., a[0] is the x coordinate, \n",
    "        and a[1] is the y coordinate.\n",
    "            \n",
    "    Returns\n",
    "    -------\n",
    "    distance : float\n",
    "        The Euclidean distance between a and b\n",
    "    \"\"\"\n",
    "    # YOUR CODE HERE\n",
    "    return ((a[0]-b[0])**2 + (a[1]-b[1])**2) ** (1/2)"
   ]
  },
  {
   "cell_type": "code",
   "execution_count": 28,
   "metadata": {},
   "outputs": [],
   "source": [
    "# (optional) add your own test cases here! Do not submit this to gradescope.\n"
   ]
  },
  {
   "cell_type": "markdown",
   "metadata": {},
   "source": [
    "Check `distance` computes the correct values (do not submit this to gradescope): "
   ]
  },
  {
   "cell_type": "code",
   "execution_count": 29,
   "metadata": {},
   "outputs": [
    {
     "name": "stdout",
     "output_type": "stream",
     "text": [
      "Success!\n"
     ]
    }
   ],
   "source": [
    "from numpy.testing import assert_allclose\n",
    "\n",
    "assert_allclose(distance(np.array([0.0, 0.0]), np.array([0.0, 1.0])), 1.0)\n",
    "assert_allclose(distance(np.array([3.0, 3.0]), np.array([4.3, 5.0])), 2.3853720883753127)\n",
    "assert_allclose(distance(np.array([130.0, -25.0]), np.array([0.4, 15.0])), 135.63244449614552)\n",
    "\n",
    "print(\"Success!\")"
   ]
  },
  {
   "cell_type": "markdown",
   "metadata": {},
   "source": [
    "## Q7.2 Assignments [3pts, HELP]\n",
    "<div class=\"alert alert-success\">\n",
    "\n",
    "Now, we will write a function to update the cluster that each point is assigned to in a single iteration. To do so, we will compute the distance from a point to the center of each cluster, and figure out which cluster center is the closest to the data point. Implement the `update_assignments` function to do this using your `distances` function. Copy-paste your code in gradescope.\n",
    "</div>"
   ]
  },
  {
   "cell_type": "code",
   "execution_count": 30,
   "metadata": {},
   "outputs": [],
   "source": [
    "def update_assignments(num_clusters, X, centers):\n",
    "    \"\"\"\n",
    "    Returns the cluster assignment (number) for each data point \n",
    "    in X, computed as the closest cluster center. Therefore, the \n",
    "    output is going to be an array with the length corresponding \n",
    "    to the number of datapoints.\n",
    "    \n",
    "    Parameters\n",
    "    ----------\n",
    "    num_clusters : int\n",
    "        The number of disjoint clusters (i.e., k) in \n",
    "        the X\n",
    "    \n",
    "    X : numpy array of shape (m, 2)\n",
    "        An array of m data points in R^2.\n",
    "    \n",
    "    centers : numpy array of shape (num_clusters, 2)\n",
    "        The coordinates for the centers of each cluster\n",
    "        \n",
    "    Returns\n",
    "    -------\n",
    "    cluster_assignments : numpy array of shape (m,)\n",
    "        An array containing the cluster label assignments \n",
    "        for each data point in X. Each cluster label is an integer\n",
    "        between 0 and (num_clusters - 1). \n",
    "    \"\"\"\n",
    "    # YOUR CODE HERE\n",
    "    assignments = np.array([])\n",
    "    for point in X:\n",
    "        curr = 999999999\n",
    "        best = 0\n",
    "        for i in np.arange(num_clusters):\n",
    "            if curr > distance(point, centers[i]):\n",
    "                curr = distance(point, centers[i])\n",
    "                best = i\n",
    "        assignments = np.append(assignments, best)\n",
    "    return assignments"
   ]
  },
  {
   "cell_type": "code",
   "execution_count": 31,
   "metadata": {},
   "outputs": [],
   "source": [
    "# (optional) add your own test cases here! Do not submit this to gradescope.\n"
   ]
  },
  {
   "cell_type": "markdown",
   "metadata": {},
   "source": [
    "Check `update_assignments` computes the correct values (do not submit this to gradescope). The following cell provides a test case. If it does not return \"Success!\", your code is incorrect."
   ]
  },
  {
   "cell_type": "code",
   "execution_count": 32,
   "metadata": {},
   "outputs": [
    {
     "name": "stdout",
     "output_type": "stream",
     "text": [
      "Success!\n"
     ]
    }
   ],
   "source": [
    "from nose.tools import assert_equal\n",
    "from numpy.testing import assert_array_equal\n",
    "\n",
    "# load the data\n",
    "data = np.load('data/X.npz')\n",
    "X = data['X']\n",
    "\n",
    "# validate update_assignments using different values\n",
    "actual = update_assignments(2, X, np.array([[3, 2], [1, 4]]))\n",
    "expected = np.array([\n",
    "    0, 0, 0, 0, 0, 0, 0, 0, 0, 0, 0, 0, 0, \n",
    "    0, 0, 0, 0, 0, 0, 0, 0, 1, 1, 1, 1, 0, 0, 1, 0, 0])\n",
    "\n",
    "# is the output of the correct shape?\n",
    "assert_equal(actual.shape[0], X.shape[0])\n",
    "\n",
    "# are the cluster labels correct?\n",
    "assert_array_equal(expected, actual)\n",
    "\n",
    "# validate update_assignments using different values\n",
    "actual = update_assignments(3, X[:int(X.shape[0]/2)], np.array([X[0], X[1], X[2]]))\n",
    "expected = np.array([0, 1, 2, 2, 0, 2, 1, 2, 2, 2, 0, 0, 0, 0, 0])\n",
    "\n",
    "# is the output of the correct shape?\n",
    "assert_equal(actual.shape[0], X.shape[0] / 2)\n",
    "\n",
    "# are the cluster labels correct?\n",
    "assert_array_equal(expected, actual)\n",
    "\n",
    "# check that it uses distance\n",
    "old_distance = distance\n",
    "del distance\n",
    "try:\n",
    "    update_assignments(2, X, np.array([[3, 2], [1, 4]]))\n",
    "except NameError:\n",
    "    pass\n",
    "else:\n",
    "    raise AssertionError(\"update_assignments does not call distance\")\n",
    "finally:\n",
    "    distance = old_distance\n",
    "    del old_distance\n",
    "\n",
    "print(\"Success!\")"
   ]
  },
  {
   "cell_type": "markdown",
   "metadata": {},
   "source": [
    "---\n",
    "## Q8. Update [3pts, HELP] "
   ]
  },
  {
   "cell_type": "markdown",
   "metadata": {},
   "source": [
    "<div class=\"alert alert-success\">\n",
    "\n",
    "Now, we need to perform the next step of the clustering algorithm: recompute the cluster centers based on which points are assigned to that cluster. Recall that the new center of a cluster is simply the two-dimensional mean of the data points in this cluster. A two-dimensional mean is represented by the mean of the x coordinates and the mean of the y coordinates. Complete the `update_parameters` function to do this (read the doc string carefully to make sure you return the right output). Copy and paste your code in gradescope. </div>"
   ]
  },
  {
   "cell_type": "code",
   "execution_count": 76,
   "metadata": {},
   "outputs": [],
   "source": [
    "def update_parameters(num_clusters, X, cluster_assignment, old_centers=None):\n",
    "    \"\"\"\n",
    "    Recalculates cluster centers running update_assignments.\n",
    "    \n",
    "    Parameters\n",
    "    ----------\n",
    "    num_clusters : int\n",
    "        The number of disjoint clusters (i.e., k) in \n",
    "        the X\n",
    "    \n",
    "    X : numpy array of shape (m, 2)\n",
    "        An array of m data points in R^2\n",
    "    \n",
    "    cluster_assignment : numpy array of shape (m,)\n",
    "        The array of cluster labels assigned to each data \n",
    "        point as returned from update_assignments\n",
    "    \n",
    "    Returns\n",
    "    -------\n",
    "    updated_centers : numpy array of shape (num_clusters, 2)\n",
    "        An array containing the new positions for each of \n",
    "        the cluster centers\n",
    "    \"\"\"\n",
    "    # YOUR CODE HERE\n",
    "    points = list(zip(X, cluster_assignment))\n",
    "    centers = np.array([])\n",
    "    for i in np.arange(num_clusters):\n",
    "        matches = [x for x in points if x[1]==i]\n",
    "        coords = [x[0] for x in matches]\n",
    "        if not coords:\n",
    "            centers = np.append(centers, old_centers[i])\n",
    "        else:\n",
    "            centers = np.append(centers, np.mean(coords, axis=0))\n",
    "    return centers.reshape(num_clusters, 2)"
   ]
  },
  {
   "cell_type": "code",
   "execution_count": 77,
   "metadata": {},
   "outputs": [
    {
     "data": {
      "text/plain": [
       "array([[2. , 3.5]])"
      ]
     },
     "execution_count": 77,
     "metadata": {},
     "output_type": "execute_result"
    }
   ],
   "source": [
    "# (optional) add your own test cases here! Do not submit this to gradescope.\n",
    "x = [(2,2), (2,3), (2,4)]\n",
    "cluster = [0, 1, 1]\n",
    "\n",
    "new = list(zip(x, cluster))\n",
    "\n",
    "newlist = [x for x in new if x[1] == 1]\n",
    "final = [x[0] for x in newlist]\n",
    "mean = np.mean(final, axis=0)\n",
    "mean.reshape(1,2)"
   ]
  },
  {
   "cell_type": "markdown",
   "metadata": {},
   "source": [
    "Check `update_parameters` computes the correct values (do not submit this to gradescope): "
   ]
  },
  {
   "cell_type": "code",
   "execution_count": 78,
   "metadata": {},
   "outputs": [
    {
     "name": "stdout",
     "output_type": "stream",
     "text": [
      "Success!\n"
     ]
    }
   ],
   "source": [
    "from nose.tools import assert_equal\n",
    "from numpy.testing import assert_allclose\n",
    "\n",
    "# load the data\n",
    "data = np.load('data/X.npz')\n",
    "X = data['X']\n",
    "\n",
    "# validate update_assignments using different values\n",
    "cluster_assignment1 = np.array([\n",
    "    0, 0, 0, 0, 0, 0, 0, 0, 0, 0, 0, 0, 0, \n",
    "    0, 0, 0, 0, 0, 0, 0, 0, 1, 1, 1, 1, 0, 0, 1, 0, 0])\n",
    "actual = update_parameters(2, X, cluster_assignment1)\n",
    "expected = np.array([[ 3.24286584,  2.71362623], [ 2.80577245,  4.07633606]])\n",
    "assert_allclose(expected, actual)\n",
    "\n",
    "cluster_assignment2 = np.array([0, 1, 2, 2, 0, 2, 1, 2, 2, 2, 0, 0, 0, 0, 0])\n",
    "actual = update_parameters(3, X[:int(X.shape[0]/2)], cluster_assignment2)\n",
    "expected = np.array([[ 3.4914304 ,  2.79181724], [ 3.03095255,  2.02958778], [ 2.86686881,  1.76070598]])\n",
    "assert_allclose(expected, actual, rtol=1e-6)\n",
    "    \n",
    "print(\"Success!\")"
   ]
  },
  {
   "cell_type": "markdown",
   "metadata": {},
   "source": [
    "## Q9. Running k-means [3pts, SOLO]"
   ]
  },
  {
   "cell_type": "markdown",
   "metadata": {},
   "source": [
    "At this stage you are ready to run the $k$-means clustering algorithm! The `k_means` function below will call your functions from Q7.2 and Q8 to run the k-means algorithm on the data points in `X`. Note that for this problem we assume that $k = 3$.\n",
    "\n",
    "Take a look at the function `k_means` we've provided below and run the next cell to call it."
   ]
  },
  {
   "cell_type": "code",
   "execution_count": 80,
   "metadata": {},
   "outputs": [],
   "source": [
    "def k_means(num_clusters, X, centers, update_assignments, \n",
    "            update_parameters, n_iter=4, plotting = True):\n",
    "    \"\"\"\n",
    "    Runs the k-means algorithm for n_iter iterations and plots\n",
    "    the results.\n",
    "    \n",
    "    Parameters\n",
    "    ----------\n",
    "    num_clusters : int\n",
    "        The number of disjoint clusters (i.e., k) to search for\n",
    "        in X\n",
    "    \n",
    "    X : numpy array of shape (m, 2)\n",
    "        An array of m data points in R^2\n",
    "        \n",
    "    centers : numpy array of shape (num_clusters, 2)\n",
    "        The coordinates for the centers of each cluster\n",
    "        \n",
    "    update_assignments : function\n",
    "        The function you completed in part A\n",
    "    \n",
    "    update_parameters : function\n",
    "        The function you completed in part B\n",
    "    \n",
    "    n_iter : int (optional)\n",
    "        The number of iterations to run the k_means update procedure.\n",
    "        If not specified, defaults to 4.\n",
    "    \n",
    "    plotting : boolean (optional)\n",
    "        plot the steps if true\n",
    "        \n",
    "    Returns\n",
    "    -------\n",
    "    cluster_assignments : numpy array of shape (m,) \n",
    "        The final label assignments for each of the data points in X\n",
    "        \n",
    "    centers : numpy array of shape (num_clusters, 2)\n",
    "        The final cluster centroids in R^2 after running k-means\n",
    "        \n",
    "    fig: the figure object\n",
    "    \"\"\"\n",
    "    if plotting:\n",
    "        fig, ax = plt.subplots(2, n_iter,figsize=(30,15))\n",
    "        fig.tight_layout(h_pad=2.0)\n",
    "        ax = ax.flatten()\n",
    "\n",
    "    for i in range(n_iter):\n",
    "        # Step 1: Update cluster assignments\n",
    "        cluster_assignments = \\\n",
    "            update_assignments(num_clusters, X, centers)\n",
    "           \n",
    "        if plotting:\n",
    "            # plot data with colors corresponding to cluster assignments\n",
    "            for j in range(X.shape[0]):\n",
    "                if cluster_assignments[j] == 0:\n",
    "                    ax[2*i].plot(X[j,0], X[j,1], 'r.')\n",
    "                elif cluster_assignments[j] == 1:\n",
    "                    ax[2*i].plot(X[j,0], X[j,1], 'b.')\n",
    "                else:\n",
    "                    ax[2*i].plot(X[j,0], X[j,1], 'g.')\n",
    "\n",
    "            # plot the centers as stars with the associated color\n",
    "            ax[2*i].plot(centers[0,0], centers[0,1], 'r*', markersize=10)\n",
    "            ax[2*i].plot(centers[1,0], centers[1,1], 'b*', markersize=10)\n",
    "            if len(centers)>2:\n",
    "                ax[2*i].plot(centers[2,0], centers[2,1], 'g*', markersize=10)\n",
    "            ax[2*i].set_title('Step 1: \\nIteration ' + str(i+1))\n",
    "\n",
    "            ax[2*i].set_xlim([2, 4.5])\n",
    "            ax[2*i].set_ylim([1, 4.5])\n",
    "            ax[2*i].set_xticks([]) \n",
    "            ax[2*i].set_yticks([])\n",
    "        \n",
    "        # Step 2: Update the cluster centers\n",
    "        centers = \\\n",
    "            update_parameters(num_clusters, X, cluster_assignments, centers)\n",
    "        \n",
    "        if plotting:\n",
    "            # Plot data assignments with the updated center positions\n",
    "            for j in range(X.shape[0]):\n",
    "                if cluster_assignments[j] == 0:\n",
    "                    ax[2*i+1].plot(X[j,0], X[j,1], 'r.')\n",
    "                elif cluster_assignments[j] == 1:\n",
    "                    ax[2*i+1].plot(X[j,0], X[j,1], 'b.')\n",
    "                else:\n",
    "                    ax[2*i+1].plot(X[j,0], X[j,1], 'g.')\n",
    "\n",
    "            # Plot cluster centers as stars\n",
    "            ax[2*i+1].plot(centers[0][0], \n",
    "                           centers[0][1], \n",
    "                           'r*', markersize=10)\n",
    "            ax[2*i+1].plot(centers[1][0], \n",
    "                           centers[1][1], \n",
    "                           'b*', markersize=10)\n",
    "            \n",
    "            if len(centers)>2:\n",
    "                ax[2*i+1].plot(centers[2][0], \n",
    "                               centers[2][1], \n",
    "                               'g*', markersize=10)\n",
    "                \n",
    "            ax[2*i+1].set_title('Step 2: \\nIteration ' + str(i+1))\n",
    "\n",
    "            ax[2*i+1].set_xlim([2, 4.5])\n",
    "            ax[2*i+1].set_ylim([1, 4.5])\n",
    "            ax[2*i+1].set_xticks([])\n",
    "            ax[2*i+1].set_yticks([])\n",
    "        \n",
    "    if plotting:\n",
    "        plt.show()\n",
    "        return cluster_assignments, centers, fig\n",
    "    else: \n",
    "        return cluster_assignments, centers"
   ]
  },
  {
   "cell_type": "code",
   "execution_count": 81,
   "metadata": {},
   "outputs": [
    {
     "data": {
      "image/png": "[encoded data removed]",
      "text/plain": [
       "<Figure size 3000x1500 with 8 Axes>"
      ]
     },
     "metadata": {},
     "output_type": "display_data"
    }
   ],
   "source": [
    "# load the data\n",
    "data = np.load('data/X.npz')\n",
    "X = data['X']\n",
    "centers = data['centers'] \n",
    "\n",
    "# run k-means\n",
    "cluster_assignments, updated_centers, fig = k_means(3, X, centers, update_assignments, update_parameters, n_iter=4)\n",
    "\n",
    "fig.savefig('PS5_Q9.png')"
   ]
  },
  {
   "cell_type": "markdown",
   "metadata": {},
   "source": [
    "If the functions you implemented above are working properly, you should see a figure containing a subplot of the output from steps (1) and (2) for four iterations of the algorithm. This plot should give you a sense of how the algorithm progresses over time. The data points are each assigned to one of three colors corresponding to their current cluster label. The cluster centers are plotted as stars.\n",
    "\n",
    "<div class=\"alert alert-success\"> \n",
    "\n",
    "Upload the screenshot of PS5_Q9.png in Gradescope. Describe what happened in the four 2-step iterations in **2-3 sentences**. Do you think we need more iterations in this particular case? Explain why in **one sentence**. </div>"
   ]
  },
  {
   "cell_type": "markdown",
   "metadata": {},
   "source": [
    "In step 1 of each iteration, we are reassigning the labels of each point corresponding to the 3 cluster center points it is closest to. Then in step 2, we are moving the center point to the center of the new cluster with the points we changed in step 1. Then each iteration repeats upon the reassignments made previously. We likely need very few additional iterations (1 or 2 at most) if any at all, because the center points shift very slightly in the last iteration, and I only observe one or two points that could potentially change labels at the boundary of each cluster."
   ]
  },
  {
   "cell_type": "markdown",
   "metadata": {},
   "source": [
    "## Q10.1. New object [5pts, HELP].\n",
    "\n",
    "\n",
    "Now that we have assigned cluster labels to each datapoint, let's investigate how we should classify a _new_ object (a Shih-Tzu dog):\n",
    "\n",
    "![](images/maddie.png)\n"
   ]
  },
  {
   "cell_type": "markdown",
   "metadata": {},
   "source": [
    "Implement the function `assign_new_object` to determine the appropriate cluster label for this new object."
   ]
  },
  {
   "cell_type": "code",
   "execution_count": 82,
   "metadata": {},
   "outputs": [],
   "source": [
    "def assign_new_object(new_object, updated_centers):\n",
    "    \"\"\"\n",
    "    Returns the cluster label (number) for new_object using k-means \n",
    "    clustering.\n",
    "    \n",
    "    Parameters\n",
    "    ----------\n",
    "    new_object : numpy array of shape (2,)\n",
    "        The (x,y) coordinates of a new object to be classified\n",
    "        \n",
    "    updated_centers : numpy array of shape (num_clusters,2)\n",
    "        An array containing the updated (x,y) coordinates for \n",
    "        each cluster center\n",
    "        \n",
    "    Returns\n",
    "    -------\n",
    "    label : int\n",
    "       The cluster label assignment for new_object. This is a\n",
    "       number between 0 and and (num_clusters - 1).\n",
    "    \"\"\"\n",
    "    # YOUR CODE HERE\n",
    "    curr = 999999999\n",
    "    label = 0\n",
    "    for cluster, center in zip(np.arange(len(updated_centers)), updated_centers):\n",
    "        if curr > distance(new_object, center):\n",
    "            curr = distance(new_object, center)\n",
    "            label = cluster\n",
    "    return label\n"
   ]
  },
  {
   "cell_type": "code",
   "execution_count": 83,
   "metadata": {},
   "outputs": [],
   "source": [
    "# (optional) add your own test cases here! Do not submit this to gradescope.\n"
   ]
  },
  {
   "cell_type": "markdown",
   "metadata": {},
   "source": [
    "Check `assign_new_object` computes the correct values:"
   ]
  },
  {
   "cell_type": "code",
   "execution_count": 84,
   "metadata": {},
   "outputs": [
    {
     "name": "stdout",
     "output_type": "stream",
     "text": [
      "Success!\n"
     ]
    }
   ],
   "source": [
    "from nose.tools import assert_equal\n",
    "\n",
    "# validate update_assignments using different values\n",
    "centers1 = np.array([[ 3.17014624,  2.42738134], [ 2.90932354,  4.26426491]])\n",
    "assert_equal(assign_new_object(np.array([0, 1]), centers1), 0)\n",
    "assert_equal(assign_new_object(np.array([1, 0]), centers1), 0)\n",
    "assert_equal(assign_new_object(np.array([3, 2]), centers1), 0)\n",
    "assert_equal(assign_new_object(np.array([2, 4]), centers1), 1)\n",
    "\n",
    "centers2 = np.array([[ 3.170146,  2.427381], [ 3.109456,  1.902395], [ 2.964183,  1.827484]])\n",
    "assert_equal(assign_new_object(np.array([0, 1]), centers2), 2)\n",
    "assert_equal(assign_new_object(np.array([1, 0]), centers2), 2)\n",
    "assert_equal(assign_new_object(np.array([3, 2]), centers2), 1)\n",
    "assert_equal(assign_new_object(np.array([2, 4]), centers2), 0)\n",
    "\n",
    "# check that it uses distance\n",
    "old_distance = distance\n",
    "del distance\n",
    "try:\n",
    "    update_assignments(2, X, np.array([[3, 2], [1, 4]]))\n",
    "except NameError:\n",
    "    pass\n",
    "else:\n",
    "    raise AssertionError(\"assign_new_object does not call distance\")\n",
    "finally:\n",
    "    distance = old_distance\n",
    "    del old_distance\n",
    "\n",
    "print(\"Success!\")"
   ]
  },
  {
   "cell_type": "markdown",
   "metadata": {},
   "source": [
    "Now that we have the function, let's first rerun $k$-means, to make sure we have the correct variables set:"
   ]
  },
  {
   "cell_type": "code",
   "execution_count": 85,
   "metadata": {},
   "outputs": [
    {
     "data": {
      "image/png": "[encoded data removed]",
      "text/plain": [
       "<Figure size 3000x1500 with 8 Axes>"
      ]
     },
     "metadata": {},
     "output_type": "display_data"
    }
   ],
   "source": [
    "# load the edata\n",
    "data = np.load('data/X.npz')\n",
    "X = data['X']\n",
    "centers = data['centers'] \n",
    "\n",
    "# run k-means\n",
    "cluster_assignments, updated_centers, fig = k_means(3, X, centers, update_assignments, update_parameters, n_iter=4)"
   ]
  },
  {
   "cell_type": "markdown",
   "metadata": {},
   "source": [
    "Next, let's implement the `assign_new_object` function to classify the image of the Shih-Tzu:"
   ]
  },
  {
   "cell_type": "code",
   "execution_count": 86,
   "metadata": {},
   "outputs": [
    {
     "name": "stdout",
     "output_type": "stream",
     "text": [
      "The new object was assigned to cluster: 0\n"
     ]
    }
   ],
   "source": [
    "new_object = np.array([3.3, 3.5]) # image coordinates\n",
    "label = assign_new_object(new_object, updated_centers)\n",
    "print ('The new object was assigned to cluster: '+ str(label))"
   ]
  },
  {
   "cell_type": "markdown",
   "metadata": {},
   "source": [
    "Finally, we can check the classification result against the true assignments using the provided helper function `plot_final`:"
   ]
  },
  {
   "cell_type": "code",
   "execution_count": 87,
   "metadata": {},
   "outputs": [],
   "source": [
    "def plot_final(X, cluster_assignments, updated_centers, new_object,\n",
    "               assign_new_object):\n",
    "    \"\"\"\n",
    "    Categorizes a new object and plots it against the true cluster\n",
    "    labels.\n",
    "    \n",
    "    Parameters\n",
    "    ----------    \n",
    "    X : numpy array of shape (m, 2)\n",
    "        An array of m data points in R^2\n",
    "    \n",
    "    cluster_assignments : numpy array of shape (m,) \n",
    "        The final label assignments for each of the data points in X\n",
    "    \n",
    "    updated_centers : numpy array of shape (num_clusters, 2)\n",
    "        The coordinates for the centers of each cluster after \n",
    "        running k_means\n",
    "        \n",
    "    new_object : numpy array of shape (2,)\n",
    "        The (x,y) coordinates of a new object to be classified\n",
    "    \n",
    "    assign_new_object : function\n",
    "        The function you completed in part D    \n",
    "        \n",
    "    Returns\n",
    "    -------\n",
    "    label : fig\n",
    "       The plotted figure.\n",
    "    \"\"\"\n",
    "    fig, ax = plt.subplots(1,2)\n",
    "    \n",
    "    # plot data with colors corresponding to cluster assignments\n",
    "    \n",
    "    ax[0].plot(X[(cluster_assignments==0),0], X[(cluster_assignments==0),1], 'r.', label='0')\n",
    "    ax[0].plot(X[(cluster_assignments==1),0], X[(cluster_assignments==1),1], 'b.', label='1')\n",
    "    ax[0].plot(X[(cluster_assignments==2),0], X[(cluster_assignments==2),1], 'g.', label='2')\n",
    "    \n",
    "    # Generate a label for the new object\n",
    "    label = assign_new_object(new_object, updated_centers)\n",
    "    \n",
    "    # Plot the new object as as big circle on the plot\n",
    "    if label == 0:\n",
    "        ax[0].plot(new_object[0], new_object[1], 'ro', markersize=10)\n",
    "    elif label == 1:\n",
    "        ax[0].plot(new_object[0], new_object[1], 'bo', markersize=10)\n",
    "    else:\n",
    "        ax[0].plot(new_object[0], new_object[1], 'go', markersize=10)\n",
    "    \n",
    "    ax[0].set_aspect('equal', 'datalim')\n",
    "    ax[0].set_xticks([])\n",
    "    ax[0].set_yticks([])\n",
    "    ax[0].set_title('Final Cluster Assignments')\n",
    "    ax[0].legend()\n",
    "    \n",
    "    # Plot the true cluster assignments for comparison\n",
    "    ax[1].plot(X[:10, 0], X[:10, 1], 'r.', label='cats')\n",
    "    ax[1].plot(X[10:20,0], X[10:20, 1], 'b.', label='dogs')\n",
    "    ax[1].plot(X[20:, 0], X[20:, 1], 'g.', label='mops')\n",
    "    ax[1].set_title('True Cluster Assignments')\n",
    "    ax[1].set_aspect('equal', 'datalim')\n",
    "    ax[1].set_xticks([])\n",
    "    ax[1].set_yticks([])\n",
    "    ax[1].legend()\n",
    "    plt.show()\n",
    "    \n",
    "    return fig\n"
   ]
  },
  {
   "cell_type": "code",
   "execution_count": 88,
   "metadata": {},
   "outputs": [
    {
     "data": {
      "image/png": "[encoded data removed]",
      "text/plain": [
       "<Figure size 640x480 with 2 Axes>"
      ]
     },
     "metadata": {},
     "output_type": "display_data"
    }
   ],
   "source": [
    "fig = plot_final(X, cluster_assignments, updated_centers, new_object, assign_new_object)\n",
    "\n",
    "fig.savefig('PS5_Q10.png')"
   ]
  },
  {
   "cell_type": "markdown",
   "metadata": {},
   "source": [
    "\n",
    "<div class=\"alert alert-success\">\n",
    "    \n",
    "Upload figure PS5_Q10.png to gradescope.\n",
    "    \n",
    "When interpreting these plots, don't worry if the coloring differs between the two solutions; what matters is whether $k$-means identifies the same cluster boundaries as are shown in the true clusters. In gradescope, explain in **one sentence** why the coloring scheme does not matter.\n",
    "\n",
    "\n",
    "[hint: what do the cluster labels mean in the algorithm?]\n"
   ]
  },
  {
   "cell_type": "markdown",
   "metadata": {},
   "source": [
    "The coloring scheme between the two graphs doesn't matter because the colors correspond to the point belonging to a cluster group, not whether those colors/labels match (i.e. green in the final corresponds to cats in the true, red corresponds with dogs, and blue corresponds with mops)."
   ]
  },
  {
   "cell_type": "markdown",
   "metadata": {},
   "source": [
    "## Q10.2 New object [2pts, SOLO].\n",
    "\n",
    "<div class=\"alert alert-success\">\n",
    "    \n",
    "A. Did the algorithm correctly identify the Shih-Tzu?  Give an Yes/No answer, and a **one sentence** explanation for how you reached this conclusion.\n",
    "    \n",
    "B. Do you notice any differences between the true clusters and those identified via $k$-means? Write **at most two sentences** commenting on any differences you found and why these differences might exist. Hint: are some dots originally in the same cluster incorrectly classified? Why might that be the case?\n",
    "    \n",
    "</div>"
   ]
  },
  {
   "cell_type": "markdown",
   "metadata": {},
   "source": [
    "A. Yes, the algorithm correctly identified the Shih-Tzu, and we can conclude this because the large circle matches the \"Dog\" label in the true cluster assignments.\n",
    "\n",
    "B. Yes, there are two points that are incorrectly classified, one true cat that was classified as a dog, and one true mop that was classified as a dog. This might be the case because those two points are closer to the center of the dog k-means cluster than of their true label clusters, or we could possibly need more iterations to correctly classify those incorrect points."
   ]
  },
  {
   "cell_type": "markdown",
   "metadata": {},
   "source": [
    "## Q11 Random starting points [5pts, HELP].\n",
    "\n",
    "<div class=\"alert alert-success\">\n",
    "\n",
    "We provide a function `init_centers` which returns random starting points for the centers of all clusters. Take a look at the function below. Re-run k-means as you did in Q9, but use `init_centers` to initialize the random starting points for the centers. Use 6 iterations, rather than 4, to run k-means clustering. Try running it for multiple times, until your final clustering results are different than what you got in Q9. Save and upload this figure in gradescope as PS5_Q11.png. Explain how this solution differs from the original one. What happened in the algorithm to produce such results? Your answer should not exceed **two sentences**. </div>\n"
   ]
  },
  {
   "cell_type": "code",
   "execution_count": 89,
   "metadata": {},
   "outputs": [],
   "source": [
    "def init_centers(k=3):\n",
    "    \"\"\"\n",
    "    Randomly initialize cluster centers\n",
    "    \"\"\"\n",
    "    return np.vstack([np.random.uniform(low=2., high=4.5, size=k),\n",
    "                      np.random.uniform(low=1, high=4.5, size=k)]).T"
   ]
  },
  {
   "cell_type": "code",
   "execution_count": 90,
   "metadata": {},
   "outputs": [
    {
     "data": {
      "image/png": "[encoded data removed]",
      "text/plain": [
       "<Figure size 3000x1500 with 12 Axes>"
      ]
     },
     "metadata": {},
     "output_type": "display_data"
    }
   ],
   "source": [
    "# YOUR CODE HERE\n",
    "# load the data\n",
    "data = np.load('data/X.npz')\n",
    "X = data['X']\n",
    "centers = init_centers()\n",
    "\n",
    "# run k-means\n",
    "cluster_assignments, updated_centers, fig = k_means(3, X, centers, update_assignments, update_parameters, n_iter=6)\n",
    "\n",
    "fig.savefig('PS5_Q11.png')"
   ]
  },
  {
   "cell_type": "markdown",
   "metadata": {},
   "source": [
    "This solution differs from the original one by having different starting center points, slightly different ending center points, and a differing classification of one of the data points. Each of these changes occurred because of the randomization of the starting center points, having 6 iterations rather than 4, and having the ending center point converge to a different spot than before."
   ]
  },
  {
   "cell_type": "markdown",
   "metadata": {},
   "source": [
    "## Q12 Numbers of clusters\n",
    "\n",
    "**So far, we have seen examples where we know that there are 3 categories/clusters/labels in the data. However, in general you won't know how many clusters there are in the data ahead of time. In this question, you need to find the correct/optimal number of clusters (k). Let's figure out a way to decide on the value of k.**\n",
    "\n",
    "### Q12.1 k=2 [2pts, HELP]\n",
    "\n",
    "<div class=\"alert alert-success\">\n",
    "\n",
    "Run k-means with k=2 over 4 iterations. Use the cluster center starting points provided by the data (first two of the three starting points) rather than random initializations. Plot the final clusters and upload the figure as PS5_Q12_1.png to Gradescope. Explain the patterns you observe in **at most two sentences** - how does the clustering compare to previous results with k=3?\n",
    "</div>\n",
    "    "
   ]
  },
  {
   "cell_type": "code",
   "execution_count": 91,
   "metadata": {},
   "outputs": [
    {
     "data": {
      "image/png": "[encoded data removed]",
      "text/plain": [
       "<Figure size 3000x1500 with 8 Axes>"
      ]
     },
     "metadata": {},
     "output_type": "display_data"
    }
   ],
   "source": [
    "# load the data\n",
    "data = np.load('data/X.npz')\n",
    "X = data['X']\n",
    "centers = data['centers'][(0,2),:] \n",
    "\n",
    "# YOUR CODE HERE\n",
    "cluster_assignments, updated_centers, fig = k_means(2, X, centers, update_assignments, update_parameters, n_iter=4)\n",
    "\n",
    "fig.savefig('PS5_Q12_1.png')"
   ]
  },
  {
   "cell_type": "markdown",
   "metadata": {},
   "source": [
    "The patterns I observe is that the labels converge after 2 iterations, and the center points of the 2 clusters converge after 2 iterations as well. This version of clustering with 2 groups/labels converges to a solution much faster than the previous results, and the groups are very broad and large compared to having more than 2 labels."
   ]
  },
  {
   "cell_type": "markdown",
   "metadata": {},
   "source": [
    "### Q12.2 Average distance [3pts, SOLO]\n",
    "\n",
    "<div class=\"alert alert-success\">\n",
    "Write a function that computes the average distance from the data points to their cluster centers. We'll use this measure to quantify how well the algorithm is doing. Enter in gradescope the average distance for the output of k-means with k=3 over 4 iterations and the starting point centers provided above. Specifically, copy-paste the printed output of the cell (this question will be auto-graded).</div>\n",
    "    "
   ]
  },
  {
   "cell_type": "code",
   "execution_count": 92,
   "metadata": {},
   "outputs": [],
   "source": [
    "def average_distance(X,centers,cluster_assignments):\n",
    "    \"\"\"\n",
    "    returns the average distance to clusters\n",
    "    \n",
    "    Parameters\n",
    "    ----------    \n",
    "    X : numpy array of shape (m, 2)\n",
    "        An array of m data points in R^2\n",
    "    \n",
    "    cluster_assignments : numpy array of shape (m,) \n",
    "        The final label assignments for each of the data points in X\n",
    "    \n",
    "    centers : numpy array of shape (num_clusters, 2)\n",
    "        The coordinates for the centers of each cluster after \n",
    "        running k_means \n",
    "        \n",
    "    Returns\n",
    "    -------\n",
    "    label : \n",
    "       The average distance.\n",
    "    \"\"\"\n",
    "    #YOUR CODE HERE\n",
    "    total_distance = 0\n",
    "    for i, center in enumerate(centers):\n",
    "        for point, label in list(zip(X, cluster_assignments)):\n",
    "            if label == i:\n",
    "                total_distance += distance(point, center)\n",
    "    return total_distance / len(X)"
   ]
  },
  {
   "cell_type": "code",
   "execution_count": 93,
   "metadata": {},
   "outputs": [
    {
     "data": {
      "image/png": "[encoded data removed]",
      "text/plain": [
       "<Figure size 3000x1500 with 8 Axes>"
      ]
     },
     "metadata": {},
     "output_type": "display_data"
    },
    {
     "name": "stdout",
     "output_type": "stream",
     "text": [
      "Final distance is: 0.27\n"
     ]
    }
   ],
   "source": [
    "# load the data\n",
    "data = np.load('data/X.npz')\n",
    "X = data['X']\n",
    "centers = data['centers'] \n",
    "\n",
    "# run k-means\n",
    "cluster_assignments, updated_centers, fig = k_means(3, X, centers, update_assignments, update_parameters, n_iter=4)\n",
    "\n",
    "# compute the final distance\n",
    "print(\"Final distance is: \" + str(np.around(average_distance(X,updated_centers,cluster_assignments),decimals=2)))"
   ]
  },
  {
   "cell_type": "markdown",
   "metadata": {},
   "source": [
    "### Q12.3 Number of clusters. [5pts, SOLO]\n",
    "\n",
    "<div class=\"alert alert-success\">\n",
    "\n",
    "Compute the average distances for k = 2 through 6 after 10 iterations of the algorithm. For each value of k, compute the average distances for 100 different random starting points initialized using the `init_centers` function, and report the minimum average distance over the starting points for this value of k. You should end up with a list or array of 5 minimum average distance values over stating points, one for each value of k. Create a bar plot, showing this minimum average distance as a function of k (x axis = k, y axis = minimum distance). Make sure to set up `plotting=False` as an argument in k-means, so you don't always plot the clustering results for each of the 100*6 times you run it! Upload your plot as PS5_Q12_3.png in gradescope. </div>\n",
    "\n",
    "To receive full credit, follow these formatting requirements: \n",
    "1. Set the title and label the x- and y- axes.\n",
    "2. Set the limit of the y-axis to [0, 0.5]."
   ]
  },
  {
   "cell_type": "code",
   "execution_count": 102,
   "metadata": {},
   "outputs": [
    {
     "data": {
      "image/png": "[encoded data removed]",
      "text/plain": [
       "<Figure size 640x480 with 1 Axes>"
      ]
     },
     "metadata": {},
     "output_type": "display_data"
    }
   ],
   "source": [
    "ks = np.arange(2,7)\n",
    "nsims = 100\n",
    "\n",
    "#YOUR CODE HERE\n",
    "\n",
    "final = np.array([])\n",
    "for k in ks:\n",
    "    distances = np.array([])\n",
    "    for i in np.arange(nsims):\n",
    "        centers = init_centers(k)\n",
    "        cluster_assignments, updated_centers = k_means(k, X, centers, update_assignments, update_parameters, n_iter=10, plotting = False)\n",
    "        distances = np.append(distances, average_distance(X,centers,cluster_assignments))\n",
    "    final = np.append(final, min(distances))\n",
    "\n",
    "fig, ax = plt.subplots()\n",
    "\n",
    "ax.bar(ks, final)\n",
    "ax.set_xlabel('k')\n",
    "ax.set_xlabel('Minimum distance')\n",
    "ax.set_title('Mininum average distances over k=[2,6]')\n",
    "ax.set_ylim([0,0.5])\n",
    "\n",
    "fig.savefig('PS5_Q12_3.png')\n"
   ]
  },
  {
   "cell_type": "markdown",
   "metadata": {},
   "source": [
    "### Q12.4 Evaluating k-means. [3pts, HELP]\n",
    "\n",
    "If you got Q12.3 right, you should see that our average distance measure identifies $k=6$ as better than $k=3$. However, we know that's not the case: there are three clusters in our data. Therefore, our way of trying to determine the optimal number of clusters is flawed. In **2-3 sentences**, explain why the measure we chose is not a good measure to determine which value of $k$ we should select. Hint: consider what would happen if we selected $k=$ the number of points in our data set. "
   ]
  },
  {
   "cell_type": "markdown",
   "metadata": {},
   "source": [
    "The minimum distance is not a good measure to determine which value of 𝑘 we should select because this measure will naturally decrease for larger values of 𝑘. This is because having higher values of 𝑘 means we will have more center points to compare against, which means that the minimum distance of any given point will be smaller.  This does not give us any insight into how many groups/clusters there actually are in our data."
   ]
  },
  {
   "cell_type": "markdown",
   "metadata": {},
   "source": [
    "<div style=\"background-color: #c1f2a5\">\n",
    "\n",
    "# Submission\n",
    "\n",
    "    \n",
    "When you're done with your problem set, do the following:\n",
    "- Upload your answers in Gradescope's PS5.\n",
    "- Convert your Jupyter Notebook into a `.py` file by doing so:    \n",
    "    \n",
    "</div>\n",
    "\n",
    "\n",
    "<center>    \n",
    "  <img src=\"../img/py_exporting_instructions.png\" width=\"500\"/>\n",
    "</center>\n",
    "\n",
    "<div style=\"background-color: #c1f2a5\">\n",
    "    \n",
    "- Submit the `.py` file you just created in Gradescope's PS5-code.\n",
    "    \n",
    "</div>        \n",
    "\n",
    "\n",
    "\n",
    "\n",
    "</div>\n"
   ]
  },
  {
   "cell_type": "markdown",
   "metadata": {
    "deletable": false,
    "nbgrader": {}
   },
   "source": [
    "---"
   ]
  }
 ],
 "metadata": {
  "celltoolbar": "Edit Metadata",
  "kernelspec": {
   "display_name": "Python 3 (ipykernel)",
   "language": "python",
   "name": "python3"
  },
  "language_info": {
   "codemirror_mode": {
    "name": "ipython",
    "version": 3
   },
   "file_extension": ".py",
   "mimetype": "text/x-python",
   "name": "python",
   "nbconvert_exporter": "python",
   "pygments_lexer": "ipython3",
   "version": "3.11.9"
  },
  "toc": {
   "base_numbering": 1,
   "nav_menu": {},
   "number_sections": false,
   "sideBar": true,
   "skip_h1_title": false,
   "title_cell": "Table of Contents",
   "title_sidebar": "Contents",
   "toc_cell": false,
   "toc_position": {},
   "toc_section_display": true,
   "toc_window_display": false
  },
  "varInspector": {
   "cols": {
    "lenName": 16,
    "lenType": 16,
    "lenVar": 40
   },
   "kernels_config": {
    "python": {
     "delete_cmd_postfix": "",
     "delete_cmd_prefix": "del ",
     "library": "var_list.py",
     "varRefreshCmd": "print(var_dic_list())"
    },
    "r": {
     "delete_cmd_postfix": ") ",
     "delete_cmd_prefix": "rm(",
     "library": "var_list.r",
     "varRefreshCmd": "cat(var_dic_list()) "
    }
   },
   "types_to_exclude": [
    "module",
    "function",
    "builtin_function_or_method",
    "instance",
    "_Feature"
   ],
   "window_display": false
  },
  "vscode": {
   "interpreter": {
    "hash": "6d7c1f337494e60aca40253ee082b8fefe6af4b0495973df793d60869ebb8b10"
   }
  }
 },
 "nbformat": 4,
 "nbformat_minor": 4
}
